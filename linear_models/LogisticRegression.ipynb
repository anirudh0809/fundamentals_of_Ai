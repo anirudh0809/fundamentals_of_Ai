{
 "cells": [
  {
   "cell_type": "markdown",
   "metadata": {},
   "source": [
    "## Feature Optimization for Logistic Regression"
   ]
  },
  {
   "cell_type": "code",
   "execution_count": null,
   "metadata": {},
   "outputs": [],
   "source": [
    "import pandas as pd\n",
    "import numpy as np\n",
    "import matplotlib as plt"
   ]
  },
  {
   "cell_type": "code",
   "execution_count": 272,
   "metadata": {},
   "outputs": [],
   "source": [
    "#Importing data\n",
    "openpolicing_path=\"C:/Users/SwetaMankala/Desktop/Assignments/EAI6000/ma_statewide_2020_04_01.csv\"\n",
    "\n",
    "data=pd.read_csv(openpolicing_path,low_memory=False)"
   ]
  },
  {
   "cell_type": "code",
   "execution_count": 273,
   "metadata": {},
   "outputs": [
    {
     "name": "stdout",
     "output_type": "stream",
     "text": [
      "<class 'pandas.core.frame.DataFrame'>\n",
      "RangeIndex: 3416238 entries, 0 to 3416237\n",
      "Data columns (total 24 columns):\n",
      "raw_row_number                int64\n",
      "date                          object\n",
      "location                      object\n",
      "county_name                   object\n",
      "subject_age                   float64\n",
      "subject_race                  object\n",
      "subject_sex                   object\n",
      "type                          object\n",
      "arrest_made                   object\n",
      "citation_issued               object\n",
      "warning_issued                object\n",
      "outcome                       object\n",
      "contraband_found              object\n",
      "contraband_drugs              object\n",
      "contraband_weapons            object\n",
      "contraband_alcohol            bool\n",
      "contraband_other              object\n",
      "frisk_performed               object\n",
      "search_conducted              bool\n",
      "search_basis                  object\n",
      "reason_for_stop               object\n",
      "vehicle_type                  object\n",
      "vehicle_registration_state    object\n",
      "raw_Race                      object\n",
      "dtypes: bool(2), float64(1), int64(1), object(20)\n",
      "memory usage: 579.9+ MB\n"
     ]
    }
   ],
   "source": [
    "data.info()"
   ]
  },
  {
   "cell_type": "code",
   "execution_count": 274,
   "metadata": {},
   "outputs": [],
   "source": [
    "##Convert date to datetype\n",
    "data.date\n",
    "data[\"date\"] = pd.to_datetime(data.date, format=\"%Y-%m-%d\")\n",
    "#Extract time\n",
    "data['time'] = [d.time() for d in data['date']]\n",
    "#Convert date back to original form\n",
    "data['date'] = pd.to_datetime(data['date']).dt.date"
   ]
  },
  {
   "cell_type": "code",
   "execution_count": 275,
   "metadata": {},
   "outputs": [
    {
     "data": {
      "text/html": [
       "<div>\n",
       "<style scoped>\n",
       "    .dataframe tbody tr th:only-of-type {\n",
       "        vertical-align: middle;\n",
       "    }\n",
       "\n",
       "    .dataframe tbody tr th {\n",
       "        vertical-align: top;\n",
       "    }\n",
       "\n",
       "    .dataframe thead th {\n",
       "        text-align: right;\n",
       "    }\n",
       "</style>\n",
       "<table border=\"1\" class=\"dataframe\">\n",
       "  <thead>\n",
       "    <tr style=\"text-align: right;\">\n",
       "      <th></th>\n",
       "      <th>raw_row_number</th>\n",
       "      <th>date</th>\n",
       "      <th>location</th>\n",
       "      <th>county_name</th>\n",
       "      <th>subject_age</th>\n",
       "      <th>subject_race</th>\n",
       "      <th>subject_sex</th>\n",
       "      <th>type</th>\n",
       "      <th>arrest_made</th>\n",
       "      <th>citation_issued</th>\n",
       "      <th>...</th>\n",
       "      <th>contraband_alcohol</th>\n",
       "      <th>contraband_other</th>\n",
       "      <th>frisk_performed</th>\n",
       "      <th>search_conducted</th>\n",
       "      <th>search_basis</th>\n",
       "      <th>reason_for_stop</th>\n",
       "      <th>vehicle_type</th>\n",
       "      <th>vehicle_registration_state</th>\n",
       "      <th>raw_Race</th>\n",
       "      <th>time</th>\n",
       "    </tr>\n",
       "  </thead>\n",
       "  <tbody>\n",
       "    <tr>\n",
       "      <td>0</td>\n",
       "      <td>1</td>\n",
       "      <td>2007-06-06</td>\n",
       "      <td>MIDDLEBOROUGH</td>\n",
       "      <td>Plymouth County</td>\n",
       "      <td>33.0</td>\n",
       "      <td>white</td>\n",
       "      <td>male</td>\n",
       "      <td>vehicular</td>\n",
       "      <td>False</td>\n",
       "      <td>True</td>\n",
       "      <td>...</td>\n",
       "      <td>False</td>\n",
       "      <td>NaN</td>\n",
       "      <td>NaN</td>\n",
       "      <td>False</td>\n",
       "      <td>NaN</td>\n",
       "      <td>Speed</td>\n",
       "      <td>Passenger</td>\n",
       "      <td>MA</td>\n",
       "      <td>White</td>\n",
       "      <td>00:00:00</td>\n",
       "    </tr>\n",
       "    <tr>\n",
       "      <td>1</td>\n",
       "      <td>2</td>\n",
       "      <td>2007-06-07</td>\n",
       "      <td>SEEKONK</td>\n",
       "      <td>Bristol County</td>\n",
       "      <td>36.0</td>\n",
       "      <td>white</td>\n",
       "      <td>male</td>\n",
       "      <td>vehicular</td>\n",
       "      <td>False</td>\n",
       "      <td>False</td>\n",
       "      <td>...</td>\n",
       "      <td>False</td>\n",
       "      <td>False</td>\n",
       "      <td>False</td>\n",
       "      <td>True</td>\n",
       "      <td>other</td>\n",
       "      <td>NaN</td>\n",
       "      <td>Commercial</td>\n",
       "      <td>MA</td>\n",
       "      <td>White</td>\n",
       "      <td>00:00:00</td>\n",
       "    </tr>\n",
       "    <tr>\n",
       "      <td>2</td>\n",
       "      <td>3</td>\n",
       "      <td>2007-06-07</td>\n",
       "      <td>MEDFORD</td>\n",
       "      <td>Middlesex County</td>\n",
       "      <td>56.0</td>\n",
       "      <td>white</td>\n",
       "      <td>female</td>\n",
       "      <td>vehicular</td>\n",
       "      <td>False</td>\n",
       "      <td>False</td>\n",
       "      <td>...</td>\n",
       "      <td>False</td>\n",
       "      <td>NaN</td>\n",
       "      <td>NaN</td>\n",
       "      <td>False</td>\n",
       "      <td>NaN</td>\n",
       "      <td>NaN</td>\n",
       "      <td>Passenger</td>\n",
       "      <td>MA</td>\n",
       "      <td>White</td>\n",
       "      <td>00:00:00</td>\n",
       "    </tr>\n",
       "    <tr>\n",
       "      <td>3</td>\n",
       "      <td>4</td>\n",
       "      <td>2007-06-07</td>\n",
       "      <td>MEDFORD</td>\n",
       "      <td>Middlesex County</td>\n",
       "      <td>37.0</td>\n",
       "      <td>white</td>\n",
       "      <td>male</td>\n",
       "      <td>vehicular</td>\n",
       "      <td>False</td>\n",
       "      <td>False</td>\n",
       "      <td>...</td>\n",
       "      <td>False</td>\n",
       "      <td>NaN</td>\n",
       "      <td>NaN</td>\n",
       "      <td>False</td>\n",
       "      <td>NaN</td>\n",
       "      <td>NaN</td>\n",
       "      <td>Commercial</td>\n",
       "      <td>MA</td>\n",
       "      <td>White</td>\n",
       "      <td>00:00:00</td>\n",
       "    </tr>\n",
       "    <tr>\n",
       "      <td>4</td>\n",
       "      <td>5</td>\n",
       "      <td>2007-06-07</td>\n",
       "      <td>EVERETT</td>\n",
       "      <td>Middlesex County</td>\n",
       "      <td>22.0</td>\n",
       "      <td>hispanic</td>\n",
       "      <td>female</td>\n",
       "      <td>vehicular</td>\n",
       "      <td>False</td>\n",
       "      <td>True</td>\n",
       "      <td>...</td>\n",
       "      <td>False</td>\n",
       "      <td>NaN</td>\n",
       "      <td>NaN</td>\n",
       "      <td>False</td>\n",
       "      <td>NaN</td>\n",
       "      <td>NaN</td>\n",
       "      <td>Commercial</td>\n",
       "      <td>MA</td>\n",
       "      <td>Hispanic</td>\n",
       "      <td>00:00:00</td>\n",
       "    </tr>\n",
       "  </tbody>\n",
       "</table>\n",
       "<p>5 rows × 25 columns</p>\n",
       "</div>"
      ],
      "text/plain": [
       "   raw_row_number        date       location       county_name  subject_age  \\\n",
       "0               1  2007-06-06  MIDDLEBOROUGH   Plymouth County         33.0   \n",
       "1               2  2007-06-07        SEEKONK    Bristol County         36.0   \n",
       "2               3  2007-06-07        MEDFORD  Middlesex County         56.0   \n",
       "3               4  2007-06-07        MEDFORD  Middlesex County         37.0   \n",
       "4               5  2007-06-07        EVERETT  Middlesex County         22.0   \n",
       "\n",
       "  subject_race subject_sex       type arrest_made citation_issued  ...  \\\n",
       "0        white        male  vehicular       False            True  ...   \n",
       "1        white        male  vehicular       False           False  ...   \n",
       "2        white      female  vehicular       False           False  ...   \n",
       "3        white        male  vehicular       False           False  ...   \n",
       "4     hispanic      female  vehicular       False            True  ...   \n",
       "\n",
       "  contraband_alcohol contraband_other frisk_performed search_conducted  \\\n",
       "0              False              NaN             NaN            False   \n",
       "1              False            False           False             True   \n",
       "2              False              NaN             NaN            False   \n",
       "3              False              NaN             NaN            False   \n",
       "4              False              NaN             NaN            False   \n",
       "\n",
       "  search_basis  reason_for_stop vehicle_type vehicle_registration_state  \\\n",
       "0          NaN            Speed    Passenger                         MA   \n",
       "1        other              NaN   Commercial                         MA   \n",
       "2          NaN              NaN    Passenger                         MA   \n",
       "3          NaN              NaN   Commercial                         MA   \n",
       "4          NaN              NaN   Commercial                         MA   \n",
       "\n",
       "   raw_Race      time  \n",
       "0     White  00:00:00  \n",
       "1     White  00:00:00  \n",
       "2     White  00:00:00  \n",
       "3     White  00:00:00  \n",
       "4  Hispanic  00:00:00  \n",
       "\n",
       "[5 rows x 25 columns]"
      ]
     },
     "execution_count": 275,
     "metadata": {},
     "output_type": "execute_result"
    }
   ],
   "source": [
    "data.head(5)"
   ]
  },
  {
   "cell_type": "code",
   "execution_count": 276,
   "metadata": {},
   "outputs": [],
   "source": [
    "#Convering race, sex, location etc to categorical\n",
    "data.iloc[:,np.r_[2:4,5:8,9:12,19:23]]=data.iloc[:,np.r_[2:4,5:8,9:12,19:23]].astype(\"category\")"
   ]
  },
  {
   "cell_type": "code",
   "execution_count": 277,
   "metadata": {},
   "outputs": [
    {
     "name": "stdout",
     "output_type": "stream",
     "text": [
      "<class 'pandas.core.frame.DataFrame'>\n",
      "RangeIndex: 3416238 entries, 0 to 3416237\n",
      "Data columns (total 25 columns):\n",
      "raw_row_number                int64\n",
      "date                          object\n",
      "location                      category\n",
      "county_name                   category\n",
      "subject_age                   float64\n",
      "subject_race                  category\n",
      "subject_sex                   category\n",
      "type                          category\n",
      "arrest_made                   object\n",
      "citation_issued               category\n",
      "warning_issued                category\n",
      "outcome                       category\n",
      "contraband_found              object\n",
      "contraband_drugs              object\n",
      "contraband_weapons            object\n",
      "contraband_alcohol            bool\n",
      "contraband_other              object\n",
      "frisk_performed               object\n",
      "search_conducted              bool\n",
      "search_basis                  category\n",
      "reason_for_stop               category\n",
      "vehicle_type                  category\n",
      "vehicle_registration_state    category\n",
      "raw_Race                      object\n",
      "time                          object\n",
      "dtypes: bool(2), category(12), float64(1), int64(1), object(9)\n",
      "memory usage: 335.6+ MB\n"
     ]
    }
   ],
   "source": [
    "data.info()"
   ]
  },
  {
   "cell_type": "code",
   "execution_count": 278,
   "metadata": {},
   "outputs": [],
   "source": [
    "df = pd.DataFrame(data)\n",
    "median1 = df['subject_age'].median()\n",
    "df['subject_age'].fillna(median1, inplace = True)"
   ]
  },
  {
   "cell_type": "code",
   "execution_count": 279,
   "metadata": {
    "scrolled": true
   },
   "outputs": [
    {
     "data": {
      "text/plain": [
       "raw_row_number                      0\n",
       "date                                0\n",
       "location                         6666\n",
       "county_name                      6666\n",
       "subject_age                         0\n",
       "subject_race                     1664\n",
       "subject_sex                     15623\n",
       "type                                0\n",
       "arrest_made                       916\n",
       "citation_issued                   916\n",
       "warning_issued                    916\n",
       "outcome                          6858\n",
       "contraband_found              3360508\n",
       "contraband_drugs              3360508\n",
       "contraband_weapons            3360508\n",
       "contraband_alcohol                  0\n",
       "contraband_other              3360508\n",
       "frisk_performed               3361607\n",
       "search_conducted                    0\n",
       "search_basis                  3365209\n",
       "reason_for_stop               1659589\n",
       "vehicle_type                     4963\n",
       "vehicle_registration_state       9814\n",
       "raw_Race                         1664\n",
       "time                                0\n",
       "dtype: int64"
      ]
     },
     "execution_count": 279,
     "metadata": {},
     "output_type": "execute_result"
    }
   ],
   "source": [
    "df.isnull().sum()"
   ]
  },
  {
   "cell_type": "markdown",
   "metadata": {},
   "source": [
    "## Fill NAs and normalize columns:"
   ]
  },
  {
   "cell_type": "code",
   "execution_count": 280,
   "metadata": {},
   "outputs": [
    {
     "name": "stdout",
     "output_type": "stream",
     "text": [
      "\n",
      "Filled NaNs normalized:\n",
      " white                     0.744604\n",
      "black                     0.103486\n",
      "hispanic                  0.099563\n",
      "asian/pacific islander    0.049106\n",
      "other                     0.003242\n",
      "Name: race, dtype: float64\n"
     ]
    },
    {
     "data": {
      "text/plain": [
       "white                     2543743\n",
       "black                      353532\n",
       "hispanic                   340130\n",
       "asian/pacific islander     167759\n",
       "other                       11074\n",
       "Name: subject_race, dtype: int64"
      ]
     },
     "execution_count": 280,
     "metadata": {},
     "output_type": "execute_result"
    }
   ],
   "source": [
    "#Segregate the values based on the categories, remove the nulls and normalize the data column\n",
    "df['race'] = pd.Series(len(df['subject_race']), index=df.index)\n",
    "df['race'] = 0\n",
    "\n",
    "#To assign null values\n",
    "df.loc[(df['subject_race'] != 'hispanic') | \n",
    "           (df['subject_race'] != 'white') |\n",
    "           (df['subject_race'] != 'black') |\n",
    "           (df['subject_race'] != 'asian/pacific islander') |\n",
    "           (df['subject_race'] != 'other') |\n",
    "           (df['subject_race'].isnull() == True), 'race'] = np.nan\n",
    "\n",
    "#To assign the categorical values to the dataframe 'race'\n",
    "df.loc[(df['subject_race'] == 'hispanic') | \n",
    "           (df['subject_race'] == 'white') |\n",
    "           (df['subject_race'] == 'black') |\n",
    "           (df['subject_race'] == 'other') |\n",
    "           (df['subject_race'] == 'asian/pacific islander'), 'race'] = df['subject_race']\n",
    "\n",
    "race_copy = df['race'].copy(deep = True)\n",
    "\n",
    "# Fill NaN values.\n",
    "df['race'].fillna(value = 1, inplace = True)\n",
    "\n",
    "# Obtain values for every race.Axis=0 for rows\n",
    "race_copy.dropna(axis = 0, inplace = True)\n",
    "sorted_race = race_copy.value_counts(normalize = True).sort_index()\n",
    "\n",
    "# Fill one values for individual person with randomly picked from random choice.\n",
    "df['race'] = df['race'].apply(lambda x: np.random.choice([x for x in sorted_race.index],\n",
    "                                replace = True, p = sorted_race) if (x == 1) else x).astype(str)\n",
    "\n",
    "#Normalize=True prints the relative frequency of the values\n",
    "print(\"\\nFilled NaNs normalized:\\n\", df['race'].value_counts(normalize = True))\n",
    "\n",
    "df['subject_race'] = df['race']\n",
    "df['subject_race'].value_counts()"
   ]
  },
  {
   "cell_type": "code",
   "execution_count": 281,
   "metadata": {},
   "outputs": [
    {
     "name": "stdout",
     "output_type": "stream",
     "text": [
      "Gender proportions after filled NaNs: \n",
      " male      0.694644\n",
      "female    0.305356\n",
      "Name: sex, dtype: float64\n"
     ]
    },
    {
     "data": {
      "text/plain": [
       "male      2373068\n",
       "female    1043170\n",
       "Name: subject_sex, dtype: int64"
      ]
     },
     "execution_count": 281,
     "metadata": {},
     "output_type": "execute_result"
    }
   ],
   "source": [
    "#Segregate the values based on the categories, remove the nulls and normalize the data column\n",
    "df['sex'] = pd.Series(len(df['subject_sex']), index = df.index)\n",
    "df['sex'] = 0\n",
    "\n",
    "# Randomly stick sex to every user with NaN value.\n",
    "df.loc[(df['subject_sex'] != 'male') | \n",
    "           (df['subject_sex'] != 'female') |\n",
    "           (df['subject_sex'].isnull() == True), 'sex'] = np.nan\n",
    "df.loc[(df['subject_sex'] == 'male') | \n",
    "           (df['subject_sex'] == 'female'), 'sex'] = df['subject_sex']\n",
    "\n",
    "\n",
    "# Create a copy to calculate proportions.\n",
    "sex_copy = df['sex'].copy(deep = True)\n",
    "\n",
    "# Fill NaN values.\n",
    "df['sex'].fillna(value = 1, inplace = True)\n",
    "\n",
    "# Obtain values for every sex.\n",
    "sex_copy.dropna(axis = 0, inplace = True)\n",
    "sorted_sex = sex_copy.value_counts(normalize = True).sort_index()\n",
    "\n",
    "# Fill one values in suspector_sex_rand with randomly picked from random choice.\n",
    "df['sex'] = df['sex'].apply(lambda x: np.random.choice([x for x in sorted_sex.index],\n",
    "                                replace = True, p = sorted_sex) if (x == 1) else x).astype(str)\n",
    "print(\"Gender proportions after filled NaNs: \\n\", df['sex'].value_counts(normalize = True))\n",
    "\n",
    "df['subject_sex'] = df['sex']\n",
    "df['subject_sex'].value_counts()"
   ]
  },
  {
   "cell_type": "code",
   "execution_count": 282,
   "metadata": {},
   "outputs": [
    {
     "name": "stdout",
     "output_type": "stream",
     "text": [
      "Outcome proportions after filled NaNs: \n",
      " citation    0.636869\n",
      "warning     0.336145\n",
      "arrest      0.026986\n",
      "Name: outcome_v, dtype: float64\n"
     ]
    },
    {
     "data": {
      "text/plain": [
       "citation    2175695\n",
       "warning     1148351\n",
       "arrest        92192\n",
       "Name: outcome, dtype: int64"
      ]
     },
     "execution_count": 282,
     "metadata": {},
     "output_type": "execute_result"
    }
   ],
   "source": [
    "#Segregate the values based on the categories, remove the nulls and normalize the data column\n",
    "df['outcome_v'] = pd.Series(len(df['outcome']), index = df.index)\n",
    "df['outcome_v'] = 0\n",
    "\n",
    "# Randomly stick sex to every user with NaN value.\n",
    "df.loc[(df['outcome'] != 'citation') | \n",
    "           (df['outcome'] != 'warning') |\n",
    "           (df['outcome'] != 'arrest') |\n",
    "           (df['outcome'].isnull() == True), 'outcome_v'] = np.nan\n",
    "df.loc[(df['outcome'] != 'citation') | \n",
    "           (df['outcome'] != 'warning') |\n",
    "           (df['outcome'] != 'arrest'), 'outcome_v'] = df['outcome']\n",
    "\n",
    "\n",
    "# Create a copy to calculate proportions.\n",
    "outcome_copy = df['outcome_v'].copy(deep = True)\n",
    "\n",
    "# Fill NaN values.\n",
    "df['outcome_v'].fillna(value = 1, inplace = True)\n",
    "\n",
    "outcome_copy.dropna(axis = 0, inplace = True)\n",
    "sorted_outcome = outcome_copy.value_counts(normalize = True).sort_index()\n",
    "\n",
    "# Fill one values in suspector_sex_rand with randomly picked from random choice.\n",
    "df['outcome_v'] = df['outcome_v'].apply(lambda x: np.random.choice([x for x in sorted_outcome.index],\n",
    "                                replace = True, p = sorted_outcome) if (x == 1) else x).astype(str)\n",
    "print(\"Outcome proportions after filled NaNs: \\n\", df['outcome_v'].value_counts(normalize = True))\n",
    "\n",
    "df['outcome'] = df['outcome_v']\n",
    "df['outcome'].value_counts()"
   ]
  },
  {
   "cell_type": "code",
   "execution_count": 283,
   "metadata": {},
   "outputs": [
    {
     "name": "stdout",
     "output_type": "stream",
     "text": [
      "Vehicle Type proportions after filled NaNs: \n",
      " Passenger      9.312852e-01\n",
      "Commercial     5.693075e-02\n",
      "Taxi/Livery    5.728231e-03\n",
      "Motorcycle     3.671583e-03\n",
      "Trailer        2.383616e-03\n",
      "66             2.927197e-07\n",
      "91             2.927197e-07\n",
      "Name: vehicle, dtype: float64\n"
     ]
    },
    {
     "data": {
      "text/plain": [
       "Passenger      3181492\n",
       "Commercial      194489\n",
       "Taxi/Livery      19569\n",
       "Motorcycle       12543\n",
       "Trailer           8143\n",
       "66                   1\n",
       "91                   1\n",
       "Name: vehicle_type, dtype: int64"
      ]
     },
     "execution_count": 283,
     "metadata": {},
     "output_type": "execute_result"
    }
   ],
   "source": [
    "#Segregate the values based on the categories, remove the nulls and normalize the data column\n",
    "df['vehicle'] = pd.Series(len(df['vehicle_type']), index = df.index)\n",
    "df['vehicle'] = 0\n",
    "\n",
    "df.loc[(df['vehicle_type'] != 'Commerical') | \n",
    "           (df['vehicle_type'] != 'Passenger') |\n",
    "           (df['vehicle_type'] != 'Motorcycle') |\n",
    "           (df['vehicle_type'] != 'Taxi/Livery') |\n",
    "           (df['vehicle_type'] != 'Trailer') |\n",
    "           (df['vehicle_type'].isnull() == True), 'vehicle'] = np.nan\n",
    "df.loc[(df['vehicle_type'] != 'Commerical') | \n",
    "           (df['vehicle_type'] != 'Passenger') |\n",
    "           (df['vehicle_type'] != 'Motorcycle') |\n",
    "           (df['vehicle_type'] != 'Taxi/Livery') |\n",
    "           (df['vehicle_type'] != 'Trailer'), 'vehicle'] = df['vehicle_type']\n",
    "\n",
    "\n",
    "# Create a copy to calculate proportions.\n",
    "outcome_copy = df['vehicle'].copy(deep = True)\n",
    "\n",
    "# Fill NaN values.\n",
    "df['vehicle'].fillna(value = 1, inplace = True)\n",
    "\n",
    "outcome_copy.dropna(axis = 0, inplace = True)\n",
    "sorted_outcome = outcome_copy.value_counts(normalize = True).sort_index()\n",
    "\n",
    "# Fill one values in suspector_sex_rand with randomly picked from random choice.\n",
    "df['vehicle'] = df['vehicle'].apply(lambda x: np.random.choice([x for x in sorted_outcome.index],\n",
    "                                replace = True, p = sorted_outcome) if (x == 1) else x).astype(str)\n",
    "print(\"Vehicle Type proportions after filled NaNs: \\n\", df['vehicle'].value_counts(normalize = True))\n",
    "\n",
    "df['vehicle_type'] = df['vehicle']\n",
    "df['vehicle_type'].value_counts()"
   ]
  },
  {
   "cell_type": "code",
   "execution_count": 289,
   "metadata": {},
   "outputs": [],
   "source": [
    "df['date'] = pd.to_datetime(df['date'])\n",
    "df['date'] = pd.to_numeric(df['date'])\n",
    "df['date'] = df['date'].astype(float)"
   ]
  },
  {
   "cell_type": "markdown",
   "metadata": {},
   "source": [
    "## Use make_dummies for One Hot Encoding:"
   ]
  },
  {
   "cell_type": "code",
   "execution_count": 309,
   "metadata": {},
   "outputs": [
    {
     "name": "stdout",
     "output_type": "stream",
     "text": [
      "   raw_row_number          date       location       county_name  subject_age  \\\n",
      "0               1  1.181088e+18  MIDDLEBOROUGH   Plymouth County         33.0   \n",
      "1               2  1.181174e+18        SEEKONK    Bristol County         36.0   \n",
      "2               3  1.181174e+18        MEDFORD  Middlesex County         56.0   \n",
      "3               4  1.181174e+18        MEDFORD  Middlesex County         37.0   \n",
      "4               5  1.181174e+18        EVERETT  Middlesex County         22.0   \n",
      "\n",
      "        type  raw_Race      time      race     sex  ...  \\\n",
      "0  vehicular     White  00:00:00     white    male  ...   \n",
      "1  vehicular     White  00:00:00     white    male  ...   \n",
      "2  vehicular     White  00:00:00     white  female  ...   \n",
      "3  vehicular     White  00:00:00     white    male  ...   \n",
      "4  vehicular  Hispanic  00:00:00  hispanic  female  ...   \n",
      "\n",
      "  vehicle_registration_state_SD vehicle_registration_state_TN  \\\n",
      "0                             0                             0   \n",
      "1                             0                             0   \n",
      "2                             0                             0   \n",
      "3                             0                             0   \n",
      "4                             0                             0   \n",
      "\n",
      "   vehicle_registration_state_TX  vehicle_registration_state_UT  \\\n",
      "0                              0                              0   \n",
      "1                              0                              0   \n",
      "2                              0                              0   \n",
      "3                              0                              0   \n",
      "4                              0                              0   \n",
      "\n",
      "   vehicle_registration_state_VA  vehicle_registration_state_VT  \\\n",
      "0                              0                              0   \n",
      "1                              0                              0   \n",
      "2                              0                              0   \n",
      "3                              0                              0   \n",
      "4                              0                              0   \n",
      "\n",
      "   vehicle_registration_state_WA  vehicle_registration_state_WI  \\\n",
      "0                              0                              0   \n",
      "1                              0                              0   \n",
      "2                              0                              0   \n",
      "3                              0                              0   \n",
      "4                              0                              0   \n",
      "\n",
      "   vehicle_registration_state_WV  vehicle_registration_state_WY  \n",
      "0                              0                              0  \n",
      "1                              0                              0  \n",
      "2                              0                              0  \n",
      "3                              0                              0  \n",
      "4                              0                              0  \n",
      "\n",
      "[5 rows x 110 columns]\n"
     ]
    }
   ],
   "source": [
    "categorical_vars = ['subject_race',\n",
    "                    'subject_sex',\n",
    "                    'arrest_made',\n",
    "                    'citation_issued',\n",
    "                    'outcome',\n",
    "                    'warning_issued',\n",
    "                    'contraband_found',\n",
    "                    'contraband_drugs',\n",
    "                    'contraband_weapons',\n",
    "                    'contraband_alcohol',\n",
    "                    'contraband_other',\n",
    "                    'frisk_performed',\n",
    "                    'search_conducted',\n",
    "                    'search_basis',\n",
    "                    'reason_for_stop', \n",
    "                    'vehicle_type',\n",
    "                    'vehicle_registration_state']\n",
    "\n",
    "def make_dummies(dataset, dummy_list):\n",
    "    for i in dummy_list:\n",
    "        dummy = pd.get_dummies(dataset[i], prefix= i, dummy_na= False)\n",
    "        dataset = dataset.drop(i,1)\n",
    "        dataset = pd.concat([dataset,dummy], axis = 1)\n",
    "    return dataset\n",
    "\n",
    "dummy_data =make_dummies(df,categorical_vars)\n",
    "\n",
    "print(dummy_data.head(5))"
   ]
  },
  {
   "cell_type": "code",
   "execution_count": 310,
   "metadata": {},
   "outputs": [],
   "source": [
    "new_data=pd.concat([df['subject_race'],dummy_data],axis=1)"
   ]
  },
  {
   "cell_type": "code",
   "execution_count": 312,
   "metadata": {},
   "outputs": [],
   "source": [
    "new_data.drop(['raw_row_number','date','location','county_name', 'vehicle', 'time', 'race', 'sex', 'outcome_v', 'type', 'time', 'raw_Race', 'race'], axis=1, inplace=True)"
   ]
  },
  {
   "cell_type": "code",
   "execution_count": 313,
   "metadata": {},
   "outputs": [
    {
     "name": "stdout",
     "output_type": "stream",
     "text": [
      "<class 'pandas.core.frame.DataFrame'>\n",
      "RangeIndex: 3416238 entries, 0 to 3416237\n",
      "Data columns (total 100 columns):\n",
      "subject_race                                object\n",
      "subject_age                                 float64\n",
      "subject_race_asian/pacific islander         uint8\n",
      "subject_race_black                          uint8\n",
      "subject_race_hispanic                       uint8\n",
      "subject_race_other                          uint8\n",
      "subject_race_white                          uint8\n",
      "subject_sex_female                          uint8\n",
      "subject_sex_male                            uint8\n",
      "arrest_made_False                           uint8\n",
      "arrest_made_True                            uint8\n",
      "citation_issued_False                       uint8\n",
      "citation_issued_True                        uint8\n",
      "outcome_arrest                              uint8\n",
      "outcome_citation                            uint8\n",
      "outcome_warning                             uint8\n",
      "warning_issued_False                        uint8\n",
      "warning_issued_True                         uint8\n",
      "contraband_found_False                      uint8\n",
      "contraband_found_True                       uint8\n",
      "contraband_drugs_False                      uint8\n",
      "contraband_drugs_True                       uint8\n",
      "contraband_weapons_False                    uint8\n",
      "contraband_weapons_True                     uint8\n",
      "contraband_alcohol_False                    uint8\n",
      "contraband_alcohol_True                     uint8\n",
      "contraband_other_False                      uint8\n",
      "contraband_other_True                       uint8\n",
      "frisk_performed_False                       uint8\n",
      "frisk_performed_True                        uint8\n",
      "search_conducted_False                      uint8\n",
      "search_conducted_True                       uint8\n",
      "search_basis_consent                        uint8\n",
      "search_basis_other                          uint8\n",
      "search_basis_probable cause                 uint8\n",
      "reason_for_stop_ChildRest                   uint8\n",
      "reason_for_stop_SeatBelt                    uint8\n",
      "reason_for_stop_SeatBelt,ChildRest          uint8\n",
      "reason_for_stop_Speed                       uint8\n",
      "reason_for_stop_Speed,ChildRest             uint8\n",
      "reason_for_stop_Speed,SeatBelt              uint8\n",
      "reason_for_stop_Speed,SeatBelt,ChildRest    uint8\n",
      "vehicle_type_66                             uint8\n",
      "vehicle_type_91                             uint8\n",
      "vehicle_type_Commercial                     uint8\n",
      "vehicle_type_Motorcycle                     uint8\n",
      "vehicle_type_Passenger                      uint8\n",
      "vehicle_type_Taxi/Livery                    uint8\n",
      "vehicle_type_Trailer                        uint8\n",
      "vehicle_registration_state_AK               uint8\n",
      "vehicle_registration_state_AL               uint8\n",
      "vehicle_registration_state_AR               uint8\n",
      "vehicle_registration_state_AZ               uint8\n",
      "vehicle_registration_state_CA               uint8\n",
      "vehicle_registration_state_CO               uint8\n",
      "vehicle_registration_state_CT               uint8\n",
      "vehicle_registration_state_DC               uint8\n",
      "vehicle_registration_state_DE               uint8\n",
      "vehicle_registration_state_FL               uint8\n",
      "vehicle_registration_state_GA               uint8\n",
      "vehicle_registration_state_HI               uint8\n",
      "vehicle_registration_state_IA               uint8\n",
      "vehicle_registration_state_ID               uint8\n",
      "vehicle_registration_state_IL               uint8\n",
      "vehicle_registration_state_IN               uint8\n",
      "vehicle_registration_state_KS               uint8\n",
      "vehicle_registration_state_KY               uint8\n",
      "vehicle_registration_state_LA               uint8\n",
      "vehicle_registration_state_MA               uint8\n",
      "vehicle_registration_state_MD               uint8\n",
      "vehicle_registration_state_ME               uint8\n",
      "vehicle_registration_state_MI               uint8\n",
      "vehicle_registration_state_MN               uint8\n",
      "vehicle_registration_state_MO               uint8\n",
      "vehicle_registration_state_MS               uint8\n",
      "vehicle_registration_state_MT               uint8\n",
      "vehicle_registration_state_NC               uint8\n",
      "vehicle_registration_state_ND               uint8\n",
      "vehicle_registration_state_NE               uint8\n",
      "vehicle_registration_state_NH               uint8\n",
      "vehicle_registration_state_NJ               uint8\n",
      "vehicle_registration_state_NM               uint8\n",
      "vehicle_registration_state_NV               uint8\n",
      "vehicle_registration_state_NY               uint8\n",
      "vehicle_registration_state_OH               uint8\n",
      "vehicle_registration_state_OK               uint8\n",
      "vehicle_registration_state_OR               uint8\n",
      "vehicle_registration_state_PA               uint8\n",
      "vehicle_registration_state_RI               uint8\n",
      "vehicle_registration_state_SC               uint8\n",
      "vehicle_registration_state_SD               uint8\n",
      "vehicle_registration_state_TN               uint8\n",
      "vehicle_registration_state_TX               uint8\n",
      "vehicle_registration_state_UT               uint8\n",
      "vehicle_registration_state_VA               uint8\n",
      "vehicle_registration_state_VT               uint8\n",
      "vehicle_registration_state_WA               uint8\n",
      "vehicle_registration_state_WI               uint8\n",
      "vehicle_registration_state_WV               uint8\n",
      "vehicle_registration_state_WY               uint8\n",
      "dtypes: float64(1), object(1), uint8(98)\n",
      "memory usage: 371.4+ MB\n"
     ]
    }
   ],
   "source": [
    "new_data.info()"
   ]
  },
  {
   "cell_type": "code",
   "execution_count": 314,
   "metadata": {},
   "outputs": [],
   "source": [
    "X = new_data.drop(['subject_race'], axis= 1)\n",
    "#X = X.values.reshape(-1,1)\n",
    "\n",
    "Y = new_data['subject_race']"
   ]
  },
  {
   "cell_type": "markdown",
   "metadata": {},
   "source": [
    "## Train Model with Multi-class Logistic Regression\n",
    "\n",
    "We determine the the subject's race based on the factors present in our data."
   ]
  },
  {
   "cell_type": "code",
   "execution_count": 320,
   "metadata": {},
   "outputs": [],
   "source": [
    "#Split the dataset into train and test\n",
    "from sklearn.model_selection import train_test_split\n",
    "X_Train, X_Test, Y_Train, Y_Test = train_test_split(X, Y, test_size = 0.3, random_state = 0)"
   ]
  },
  {
   "cell_type": "code",
   "execution_count": 347,
   "metadata": {},
   "outputs": [],
   "source": [
    "from sklearn.linear_model import LogisticRegression\n",
    "classifier = LogisticRegression(C=100, solver='liblinear', random_state = 0)\n",
    "lr_fit = classifier.fit(X_Train, Y_Train)"
   ]
  },
  {
   "cell_type": "code",
   "execution_count": 348,
   "metadata": {},
   "outputs": [
    {
     "data": {
      "text/plain": [
       "LogisticRegression(C=100, random_state=0, solver='liblinear')"
      ]
     },
     "execution_count": 348,
     "metadata": {},
     "output_type": "execute_result"
    }
   ],
   "source": [
    "lr_fit"
   ]
  },
  {
   "cell_type": "code",
   "execution_count": 322,
   "metadata": {},
   "outputs": [
    {
     "name": "stdout",
     "output_type": "stream",
     "text": [
      "[[ 117496       0       0       0       0]\n",
      " [      0  247409       0       0       0]\n",
      " [      0       0  238240       0       0]\n",
      " [      0       0       0    7731       0]\n",
      " [      0       0       0       0 1780490]]\n",
      "                        precision    recall  f1-score   support\n",
      "\n",
      "asian/pacific islander       1.00      1.00      1.00    117496\n",
      "                 black       1.00      1.00      1.00    247409\n",
      "              hispanic       1.00      1.00      1.00    238240\n",
      "                 other       1.00      1.00      1.00      7731\n",
      "                 white       1.00      1.00      1.00   1780490\n",
      "\n",
      "              accuracy                           1.00   2391366\n",
      "             macro avg       1.00      1.00      1.00   2391366\n",
      "          weighted avg       1.00      1.00      1.00   2391366\n",
      "\n",
      "Train accuracy: 1.0\n"
     ]
    }
   ],
   "source": [
    "from sklearn.metrics import confusion_matrix, classification_report, accuracy_score\n",
    "\n",
    "# Predicting the train set results\n",
    "Y_Pred = classifier.predict(X_Train)\n",
    "\n",
    "# Making the Confusion Matrix \n",
    "print(confusion_matrix(Y_Train, Y_Pred))\n",
    "print(classification_report(Y_Train, Y_Pred))\n",
    "print(\"Train accuracy:\", accuracy_score(Y_Train, Y_Pred))"
   ]
  },
  {
   "cell_type": "code",
   "execution_count": 323,
   "metadata": {},
   "outputs": [
    {
     "name": "stdout",
     "output_type": "stream",
     "text": [
      "[[ 50263      0      0      0      0]\n",
      " [     0 106123      0      0      0]\n",
      " [     0      0 101890      0      0]\n",
      " [     0      0      0   3343      0]\n",
      " [     0      0      0      0 763253]]\n",
      "                        precision    recall  f1-score   support\n",
      "\n",
      "asian/pacific islander       1.00      1.00      1.00     50263\n",
      "                 black       1.00      1.00      1.00    106123\n",
      "              hispanic       1.00      1.00      1.00    101890\n",
      "                 other       1.00      1.00      1.00      3343\n",
      "                 white       1.00      1.00      1.00    763253\n",
      "\n",
      "              accuracy                           1.00   1024872\n",
      "             macro avg       1.00      1.00      1.00   1024872\n",
      "          weighted avg       1.00      1.00      1.00   1024872\n",
      "\n",
      "Train accuracy: 1.0\n"
     ]
    }
   ],
   "source": [
    "Pred = classifier.predict(X_Test)\n",
    "print(confusion_matrix(Y_Test, Pred))\n",
    "print(classification_report(Y_Test, Pred))\n",
    "print(\"Train accuracy:\", accuracy_score(Y_Test, Pred))"
   ]
  },
  {
   "cell_type": "code",
   "execution_count": 371,
   "metadata": {},
   "outputs": [],
   "source": [
    "labels = new_data['vehicle_registration_state_WY'].values\n",
    "dataLR = new_data.drop(['vehicle_registration_state_WY'], axis=1)"
   ]
  },
  {
   "cell_type": "code",
   "execution_count": 386,
   "metadata": {},
   "outputs": [],
   "source": [
    "dataLR.drop(['subject_race'], axis=1, inplace=True)"
   ]
  },
  {
   "cell_type": "markdown",
   "metadata": {},
   "source": [
    "## Logistic Regression using Gradient Descent"
   ]
  },
  {
   "cell_type": "code",
   "execution_count": 372,
   "metadata": {},
   "outputs": [],
   "source": [
    "def Regularized_gradient_descent(data, labels, y, weights, eta, lambda_par):\n",
    "\n",
    "    for k in range(len(data.columns)+1): # For the weights\n",
    "        \n",
    "        if k == 99:\n",
    "            summation = (labels - y).sum()\n",
    "            weights[k] = weights[k] + eta*summation\n",
    "            \n",
    "        else:        \n",
    "            summation = ((labels - y)*data[k]).sum()\n",
    "            weights[k] = weights[k] + eta*(summation - lambda_par*weights[k])\n",
    "\n",
    "    return weights"
   ]
  },
  {
   "cell_type": "code",
   "execution_count": 373,
   "metadata": {},
   "outputs": [],
   "source": [
    "def Regularized_cross_entropy_err(labels, y, weights, lambda_par):\n",
    "    error = 0\n",
    "    for i in range(len(y)):\n",
    "        if y[i] < (np.exp(-16)):\n",
    "            y[i] = np.exp(-16)\n",
    "           \n",
    "        if y[i] > 1 - np.exp(-16):\n",
    "            y[i] = (1 - np.exp(-16))\n",
    "            \n",
    "        error += (labels[i] * math.log(y[i])) + ((1 - labels[i]) * math.log(1 - y[i]))\n",
    "    reg_ex = (lambda_par/2)*(weights**2).sum()\n",
    "    cross_entropy_err = -error + reg_ex\n",
    "            \n",
    "    return cross_entropy_err"
   ]
  },
  {
   "cell_type": "code",
   "execution_count": 390,
   "metadata": {},
   "outputs": [],
   "source": [
    "import math\n",
    "\n",
    "def Reg_Logistic_Regression(data, labels, iterations, eta, lambda_par):\n",
    "    \n",
    "    master_err = []\n",
    "    intial_weight = 0.5\n",
    "    weights = np.array([intial_weight]*99)\n",
    "    \n",
    "    for i in range(iterations):\n",
    "        \n",
    "        \n",
    "        y = np.empty(len(data))    \n",
    "        \n",
    "        #Iterating over the data\n",
    "        for t in range(len(data)): # No. of examples\n",
    "            \n",
    "            prod = np.matmul(weights[:98], data.iloc[t])\n",
    "                \n",
    "            gx = prod + weights[98]\n",
    "            if -gx > 700:\n",
    "                gx = -700\n",
    "            #print gx\n",
    "        \n",
    "            sigmoid = 1 / (1 + math.exp(-gx))\n",
    "            y[t] = sigmoid\n",
    "            \n",
    "        weights = Regularized_gradient_descent(data, labels, y, weights, eta, lambda_par)\n",
    "        \n",
    "        # Cross entropy error\n",
    "        error = Regularized_cross_entropy_err(labels, y, weights, lambda_par)\n",
    "        master_err.append(error)    \n",
    "        \n",
    "    # Predicting from final weights\n",
    "    pred = predict(data, weights)\n",
    "    \n",
    "    # Cross entropy error\n",
    "    error = Regularized_cross_entropy_err(labels, y, weights, lambda_par)\n",
    "        \n",
    "    # Training error\n",
    "    cl_err = classification_error(labels, pred)\n",
    "    \n",
    "    # L2 - norm\n",
    "    l2_norm = np.sqrt((weights ** 2).sum())\n",
    "    \n",
    "    return cl_err, master_err, l2_norm"
   ]
  },
  {
   "cell_type": "code",
   "execution_count": 381,
   "metadata": {},
   "outputs": [],
   "source": [
    "def classification_error(labels, predictions):\n",
    "    wrong = 0.0\n",
    "    for i in range(len(labels)):\n",
    "        if labels[i] != predictions[i]:\n",
    "            wrong += 1\n",
    "    return wrong/len(labels)*100"
   ]
  },
  {
   "cell_type": "code",
   "execution_count": 376,
   "metadata": {},
   "outputs": [],
   "source": [
    "def predict(data, weights):\n",
    "    \n",
    "    pred = np.empty(len(data))\n",
    "    \n",
    "    for t in range(len(data)): # No. of examples\n",
    "        \n",
    "        prod = np.matmul(weights[:99], data.iloc[t])\n",
    "        gx = prod + weights[99]\n",
    "\n",
    "        sigmoid = 1 / (1 + math.exp(-gx))\n",
    "        \n",
    "        # Classifying\n",
    "        if sigmoid < 0.5:\n",
    "            y = 0\n",
    "        else:\n",
    "            y = 1\n",
    "\n",
    "        pred[t] = y\n",
    "        \n",
    "    return pred"
   ]
  },
  {
   "cell_type": "markdown",
   "metadata": {},
   "source": [
    "For different values of eta, keeping lambda = 0 for now"
   ]
  },
  {
   "cell_type": "code",
   "execution_count": null,
   "metadata": {},
   "outputs": [
    {
     "name": "stdout",
     "output_type": "stream",
     "text": [
      "eta = 0.001\n"
     ]
    }
   ],
   "source": [
    "eta_values = [0.001, 0.01, 0.05, 0.1, 0.5, 1.0, 1.5]\n",
    "lambda_par = 0\n",
    "\n",
    "for eta in eta_values: \n",
    "    print(\"eta =\", eta)   \n",
    "    tr_err, ce_error, l2 = Reg_Logistic_Regression(dataLR, labels, 50, eta, lambda_par)\n",
    "    print(\"Training Error:\\t\\t\\t\", tr_err)\n",
    "    #print(\"Cross-Entropy Error:\\t\\t\", ce_error[len(ce_error)-1])\n",
    "    print(\"L2-Norm (||w||_2):\\t\\t\", l2, \"\\n\")\n",
    "    \n",
    "    # Plotting the figures of Cross Entropy vs Iterations at different values of 'eta'\n",
    "    plt.figure(figsize=(12, 8))\n",
    "    plt.xlabel(\"No. of Iterations\")\n",
    "    plt.ylabel(\"Cross Entropy Error\")\n",
    "    plt.plot(ce_error)\n",
    "    plt.title(\"Gradient Descent for eta = {}\".format(eta))"
   ]
  },
  {
   "cell_type": "code",
   "execution_count": null,
   "metadata": {},
   "outputs": [],
   "source": []
  }
 ],
 "metadata": {
  "kernelspec": {
   "display_name": "Python 3",
   "language": "python",
   "name": "python3"
  },
  "language_info": {
   "codemirror_mode": {
    "name": "ipython",
    "version": 3
   },
   "file_extension": ".py",
   "mimetype": "text/x-python",
   "name": "python",
   "nbconvert_exporter": "python",
   "pygments_lexer": "ipython3",
   "version": "3.7.4"
  }
 },
 "nbformat": 4,
 "nbformat_minor": 2
}
