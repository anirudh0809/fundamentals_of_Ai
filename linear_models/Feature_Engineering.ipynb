{
 "cells": [
  {
   "cell_type": "markdown",
   "metadata": {},
   "source": [
    "This week we are tasked with exploring Linear and Logistic Regression models to predict an outcome. Based on our initial Exploratory analysis, we will perform feature extraction and analysis to determine what relevant features can be used to build our model."
   ]
  },
  {
   "cell_type": "code",
   "execution_count": 17,
   "metadata": {},
   "outputs": [],
   "source": [
    "import pandas as pd\n",
    "import numpy as np\n",
    "import matplotlib.pyplot as plt\n",
    "import seaborn as sns\n",
    "from datetime import datetime\n",
    "import tensorflow as tf"
   ]
  },
  {
   "cell_type": "code",
   "execution_count": 2,
   "metadata": {},
   "outputs": [],
   "source": [
    "#Importing data\n",
    "openpolicing_path=\"../ma_statewide_2020_04_01.csv\"\n",
    "\n",
    "data=pd.read_csv(openpolicing_path,low_memory=False)"
   ]
  },
  {
   "cell_type": "code",
   "execution_count": 10,
   "metadata": {},
   "outputs": [
    {
     "data": {
      "text/html": [
       "<div>\n",
       "<style scoped>\n",
       "    .dataframe tbody tr th:only-of-type {\n",
       "        vertical-align: middle;\n",
       "    }\n",
       "\n",
       "    .dataframe tbody tr th {\n",
       "        vertical-align: top;\n",
       "    }\n",
       "\n",
       "    .dataframe thead th {\n",
       "        text-align: right;\n",
       "    }\n",
       "</style>\n",
       "<table border=\"1\" class=\"dataframe\">\n",
       "  <thead>\n",
       "    <tr style=\"text-align: right;\">\n",
       "      <th></th>\n",
       "      <th>raw_row_number</th>\n",
       "      <th>date</th>\n",
       "      <th>location</th>\n",
       "      <th>county_name</th>\n",
       "      <th>subject_age</th>\n",
       "      <th>subject_race</th>\n",
       "      <th>subject_sex</th>\n",
       "      <th>type</th>\n",
       "      <th>arrest_made</th>\n",
       "      <th>citation_issued</th>\n",
       "      <th>...</th>\n",
       "      <th>contraband_weapons</th>\n",
       "      <th>contraband_alcohol</th>\n",
       "      <th>contraband_other</th>\n",
       "      <th>frisk_performed</th>\n",
       "      <th>search_conducted</th>\n",
       "      <th>search_basis</th>\n",
       "      <th>reason_for_stop</th>\n",
       "      <th>vehicle_type</th>\n",
       "      <th>vehicle_registration_state</th>\n",
       "      <th>raw_Race</th>\n",
       "    </tr>\n",
       "  </thead>\n",
       "  <tbody>\n",
       "    <tr>\n",
       "      <th>0</th>\n",
       "      <td>1</td>\n",
       "      <td>2007-06-06</td>\n",
       "      <td>MIDDLEBOROUGH</td>\n",
       "      <td>Plymouth County</td>\n",
       "      <td>33.0</td>\n",
       "      <td>white</td>\n",
       "      <td>male</td>\n",
       "      <td>vehicular</td>\n",
       "      <td>False</td>\n",
       "      <td>True</td>\n",
       "      <td>...</td>\n",
       "      <td>NaN</td>\n",
       "      <td>False</td>\n",
       "      <td>NaN</td>\n",
       "      <td>NaN</td>\n",
       "      <td>False</td>\n",
       "      <td>NaN</td>\n",
       "      <td>Speed</td>\n",
       "      <td>Passenger</td>\n",
       "      <td>MA</td>\n",
       "      <td>White</td>\n",
       "    </tr>\n",
       "    <tr>\n",
       "      <th>1</th>\n",
       "      <td>2</td>\n",
       "      <td>2007-06-07</td>\n",
       "      <td>SEEKONK</td>\n",
       "      <td>Bristol County</td>\n",
       "      <td>36.0</td>\n",
       "      <td>white</td>\n",
       "      <td>male</td>\n",
       "      <td>vehicular</td>\n",
       "      <td>False</td>\n",
       "      <td>False</td>\n",
       "      <td>...</td>\n",
       "      <td>False</td>\n",
       "      <td>False</td>\n",
       "      <td>False</td>\n",
       "      <td>False</td>\n",
       "      <td>True</td>\n",
       "      <td>other</td>\n",
       "      <td>NaN</td>\n",
       "      <td>Commercial</td>\n",
       "      <td>MA</td>\n",
       "      <td>White</td>\n",
       "    </tr>\n",
       "    <tr>\n",
       "      <th>2</th>\n",
       "      <td>3</td>\n",
       "      <td>2007-06-07</td>\n",
       "      <td>MEDFORD</td>\n",
       "      <td>Middlesex County</td>\n",
       "      <td>56.0</td>\n",
       "      <td>white</td>\n",
       "      <td>female</td>\n",
       "      <td>vehicular</td>\n",
       "      <td>False</td>\n",
       "      <td>False</td>\n",
       "      <td>...</td>\n",
       "      <td>NaN</td>\n",
       "      <td>False</td>\n",
       "      <td>NaN</td>\n",
       "      <td>NaN</td>\n",
       "      <td>False</td>\n",
       "      <td>NaN</td>\n",
       "      <td>NaN</td>\n",
       "      <td>Passenger</td>\n",
       "      <td>MA</td>\n",
       "      <td>White</td>\n",
       "    </tr>\n",
       "    <tr>\n",
       "      <th>3</th>\n",
       "      <td>4</td>\n",
       "      <td>2007-06-07</td>\n",
       "      <td>MEDFORD</td>\n",
       "      <td>Middlesex County</td>\n",
       "      <td>37.0</td>\n",
       "      <td>white</td>\n",
       "      <td>male</td>\n",
       "      <td>vehicular</td>\n",
       "      <td>False</td>\n",
       "      <td>False</td>\n",
       "      <td>...</td>\n",
       "      <td>NaN</td>\n",
       "      <td>False</td>\n",
       "      <td>NaN</td>\n",
       "      <td>NaN</td>\n",
       "      <td>False</td>\n",
       "      <td>NaN</td>\n",
       "      <td>NaN</td>\n",
       "      <td>Commercial</td>\n",
       "      <td>MA</td>\n",
       "      <td>White</td>\n",
       "    </tr>\n",
       "    <tr>\n",
       "      <th>4</th>\n",
       "      <td>5</td>\n",
       "      <td>2007-06-07</td>\n",
       "      <td>EVERETT</td>\n",
       "      <td>Middlesex County</td>\n",
       "      <td>22.0</td>\n",
       "      <td>hispanic</td>\n",
       "      <td>female</td>\n",
       "      <td>vehicular</td>\n",
       "      <td>False</td>\n",
       "      <td>True</td>\n",
       "      <td>...</td>\n",
       "      <td>NaN</td>\n",
       "      <td>False</td>\n",
       "      <td>NaN</td>\n",
       "      <td>NaN</td>\n",
       "      <td>False</td>\n",
       "      <td>NaN</td>\n",
       "      <td>NaN</td>\n",
       "      <td>Commercial</td>\n",
       "      <td>MA</td>\n",
       "      <td>Hispanic</td>\n",
       "    </tr>\n",
       "  </tbody>\n",
       "</table>\n",
       "<p>5 rows × 24 columns</p>\n",
       "</div>"
      ],
      "text/plain": [
       "   raw_row_number        date       location       county_name  subject_age  \\\n",
       "0               1  2007-06-06  MIDDLEBOROUGH   Plymouth County         33.0   \n",
       "1               2  2007-06-07        SEEKONK    Bristol County         36.0   \n",
       "2               3  2007-06-07        MEDFORD  Middlesex County         56.0   \n",
       "3               4  2007-06-07        MEDFORD  Middlesex County         37.0   \n",
       "4               5  2007-06-07        EVERETT  Middlesex County         22.0   \n",
       "\n",
       "  subject_race subject_sex       type arrest_made citation_issued  ...  \\\n",
       "0        white        male  vehicular       False            True  ...   \n",
       "1        white        male  vehicular       False           False  ...   \n",
       "2        white      female  vehicular       False           False  ...   \n",
       "3        white        male  vehicular       False           False  ...   \n",
       "4     hispanic      female  vehicular       False            True  ...   \n",
       "\n",
       "  contraband_weapons contraband_alcohol contraband_other frisk_performed  \\\n",
       "0                NaN              False              NaN             NaN   \n",
       "1              False              False            False           False   \n",
       "2                NaN              False              NaN             NaN   \n",
       "3                NaN              False              NaN             NaN   \n",
       "4                NaN              False              NaN             NaN   \n",
       "\n",
       "  search_conducted  search_basis reason_for_stop vehicle_type  \\\n",
       "0            False           NaN           Speed    Passenger   \n",
       "1             True         other             NaN   Commercial   \n",
       "2            False           NaN             NaN    Passenger   \n",
       "3            False           NaN             NaN   Commercial   \n",
       "4            False           NaN             NaN   Commercial   \n",
       "\n",
       "   vehicle_registration_state  raw_Race  \n",
       "0                          MA     White  \n",
       "1                          MA     White  \n",
       "2                          MA     White  \n",
       "3                          MA     White  \n",
       "4                          MA  Hispanic  \n",
       "\n",
       "[5 rows x 24 columns]"
      ]
     },
     "execution_count": 10,
     "metadata": {},
     "output_type": "execute_result"
    }
   ],
   "source": [
    "data.head()"
   ]
  },
  {
   "cell_type": "markdown",
   "metadata": {},
   "source": [
    "We check the data types to see if appropriate types are being used. We will convert them accordinly."
   ]
  },
  {
   "cell_type": "code",
   "execution_count": 11,
   "metadata": {},
   "outputs": [
    {
     "name": "stdout",
     "output_type": "stream",
     "text": [
      "<class 'pandas.core.frame.DataFrame'>\n",
      "RangeIndex: 3416238 entries, 0 to 3416237\n",
      "Data columns (total 24 columns):\n",
      " #   Column                      Dtype  \n",
      "---  ------                      -----  \n",
      " 0   raw_row_number              int64  \n",
      " 1   date                        object \n",
      " 2   location                    object \n",
      " 3   county_name                 object \n",
      " 4   subject_age                 float64\n",
      " 5   subject_race                object \n",
      " 6   subject_sex                 object \n",
      " 7   type                        object \n",
      " 8   arrest_made                 object \n",
      " 9   citation_issued             object \n",
      " 10  warning_issued              object \n",
      " 11  outcome                     object \n",
      " 12  contraband_found            object \n",
      " 13  contraband_drugs            object \n",
      " 14  contraband_weapons          object \n",
      " 15  contraband_alcohol          bool   \n",
      " 16  contraband_other            object \n",
      " 17  frisk_performed             object \n",
      " 18  search_conducted            bool   \n",
      " 19  search_basis                object \n",
      " 20  reason_for_stop             object \n",
      " 21  vehicle_type                object \n",
      " 22  vehicle_registration_state  object \n",
      " 23  raw_Race                    object \n",
      "dtypes: bool(2), float64(1), int64(1), object(20)\n",
      "memory usage: 579.9+ MB\n"
     ]
    }
   ],
   "source": [
    "data.info()"
   ]
  },
  {
   "cell_type": "markdown",
   "metadata": {},
   "source": [
    "We convert the date from object to date type and extract time for future analyses."
   ]
  },
  {
   "cell_type": "code",
   "execution_count": 3,
   "metadata": {},
   "outputs": [],
   "source": [
    "##Convert date to datetype\n",
    "\n",
    "data.date\n",
    "data[\"date\"] = pd.to_datetime(data.date, format=\"%Y-%M-%d\")\n",
    "#Extract time\n",
    "data['time'] = [d.time() for d in data['date']]\n",
    "#Convert date back to original form\n",
    "data['date'] = pd.to_datetime(data['date']).dt.date"
   ]
  },
  {
   "cell_type": "code",
   "execution_count": 4,
   "metadata": {},
   "outputs": [
    {
     "data": {
      "text/html": [
       "<div>\n",
       "<style scoped>\n",
       "    .dataframe tbody tr th:only-of-type {\n",
       "        vertical-align: middle;\n",
       "    }\n",
       "\n",
       "    .dataframe tbody tr th {\n",
       "        vertical-align: top;\n",
       "    }\n",
       "\n",
       "    .dataframe thead th {\n",
       "        text-align: right;\n",
       "    }\n",
       "</style>\n",
       "<table border=\"1\" class=\"dataframe\">\n",
       "  <thead>\n",
       "    <tr style=\"text-align: right;\">\n",
       "      <th></th>\n",
       "      <th>raw_row_number</th>\n",
       "      <th>date</th>\n",
       "      <th>location</th>\n",
       "      <th>county_name</th>\n",
       "      <th>subject_age</th>\n",
       "      <th>subject_race</th>\n",
       "      <th>subject_sex</th>\n",
       "      <th>type</th>\n",
       "      <th>arrest_made</th>\n",
       "      <th>citation_issued</th>\n",
       "      <th>...</th>\n",
       "      <th>contraband_alcohol</th>\n",
       "      <th>contraband_other</th>\n",
       "      <th>frisk_performed</th>\n",
       "      <th>search_conducted</th>\n",
       "      <th>search_basis</th>\n",
       "      <th>reason_for_stop</th>\n",
       "      <th>vehicle_type</th>\n",
       "      <th>vehicle_registration_state</th>\n",
       "      <th>raw_Race</th>\n",
       "      <th>time</th>\n",
       "    </tr>\n",
       "  </thead>\n",
       "  <tbody>\n",
       "    <tr>\n",
       "      <th>0</th>\n",
       "      <td>1</td>\n",
       "      <td>2007-01-06</td>\n",
       "      <td>MIDDLEBOROUGH</td>\n",
       "      <td>Plymouth County</td>\n",
       "      <td>33.0</td>\n",
       "      <td>white</td>\n",
       "      <td>male</td>\n",
       "      <td>vehicular</td>\n",
       "      <td>False</td>\n",
       "      <td>True</td>\n",
       "      <td>...</td>\n",
       "      <td>False</td>\n",
       "      <td>NaN</td>\n",
       "      <td>NaN</td>\n",
       "      <td>False</td>\n",
       "      <td>NaN</td>\n",
       "      <td>Speed</td>\n",
       "      <td>Passenger</td>\n",
       "      <td>MA</td>\n",
       "      <td>White</td>\n",
       "      <td>00:06:00</td>\n",
       "    </tr>\n",
       "    <tr>\n",
       "      <th>1</th>\n",
       "      <td>2</td>\n",
       "      <td>2007-01-07</td>\n",
       "      <td>SEEKONK</td>\n",
       "      <td>Bristol County</td>\n",
       "      <td>36.0</td>\n",
       "      <td>white</td>\n",
       "      <td>male</td>\n",
       "      <td>vehicular</td>\n",
       "      <td>False</td>\n",
       "      <td>False</td>\n",
       "      <td>...</td>\n",
       "      <td>False</td>\n",
       "      <td>False</td>\n",
       "      <td>False</td>\n",
       "      <td>True</td>\n",
       "      <td>other</td>\n",
       "      <td>NaN</td>\n",
       "      <td>Commercial</td>\n",
       "      <td>MA</td>\n",
       "      <td>White</td>\n",
       "      <td>00:06:00</td>\n",
       "    </tr>\n",
       "    <tr>\n",
       "      <th>2</th>\n",
       "      <td>3</td>\n",
       "      <td>2007-01-07</td>\n",
       "      <td>MEDFORD</td>\n",
       "      <td>Middlesex County</td>\n",
       "      <td>56.0</td>\n",
       "      <td>white</td>\n",
       "      <td>female</td>\n",
       "      <td>vehicular</td>\n",
       "      <td>False</td>\n",
       "      <td>False</td>\n",
       "      <td>...</td>\n",
       "      <td>False</td>\n",
       "      <td>NaN</td>\n",
       "      <td>NaN</td>\n",
       "      <td>False</td>\n",
       "      <td>NaN</td>\n",
       "      <td>NaN</td>\n",
       "      <td>Passenger</td>\n",
       "      <td>MA</td>\n",
       "      <td>White</td>\n",
       "      <td>00:06:00</td>\n",
       "    </tr>\n",
       "    <tr>\n",
       "      <th>3</th>\n",
       "      <td>4</td>\n",
       "      <td>2007-01-07</td>\n",
       "      <td>MEDFORD</td>\n",
       "      <td>Middlesex County</td>\n",
       "      <td>37.0</td>\n",
       "      <td>white</td>\n",
       "      <td>male</td>\n",
       "      <td>vehicular</td>\n",
       "      <td>False</td>\n",
       "      <td>False</td>\n",
       "      <td>...</td>\n",
       "      <td>False</td>\n",
       "      <td>NaN</td>\n",
       "      <td>NaN</td>\n",
       "      <td>False</td>\n",
       "      <td>NaN</td>\n",
       "      <td>NaN</td>\n",
       "      <td>Commercial</td>\n",
       "      <td>MA</td>\n",
       "      <td>White</td>\n",
       "      <td>00:06:00</td>\n",
       "    </tr>\n",
       "    <tr>\n",
       "      <th>4</th>\n",
       "      <td>5</td>\n",
       "      <td>2007-01-07</td>\n",
       "      <td>EVERETT</td>\n",
       "      <td>Middlesex County</td>\n",
       "      <td>22.0</td>\n",
       "      <td>hispanic</td>\n",
       "      <td>female</td>\n",
       "      <td>vehicular</td>\n",
       "      <td>False</td>\n",
       "      <td>True</td>\n",
       "      <td>...</td>\n",
       "      <td>False</td>\n",
       "      <td>NaN</td>\n",
       "      <td>NaN</td>\n",
       "      <td>False</td>\n",
       "      <td>NaN</td>\n",
       "      <td>NaN</td>\n",
       "      <td>Commercial</td>\n",
       "      <td>MA</td>\n",
       "      <td>Hispanic</td>\n",
       "      <td>00:06:00</td>\n",
       "    </tr>\n",
       "  </tbody>\n",
       "</table>\n",
       "<p>5 rows × 25 columns</p>\n",
       "</div>"
      ],
      "text/plain": [
       "   raw_row_number        date       location       county_name  subject_age  \\\n",
       "0               1  2007-01-06  MIDDLEBOROUGH   Plymouth County         33.0   \n",
       "1               2  2007-01-07        SEEKONK    Bristol County         36.0   \n",
       "2               3  2007-01-07        MEDFORD  Middlesex County         56.0   \n",
       "3               4  2007-01-07        MEDFORD  Middlesex County         37.0   \n",
       "4               5  2007-01-07        EVERETT  Middlesex County         22.0   \n",
       "\n",
       "  subject_race subject_sex       type arrest_made citation_issued  ...  \\\n",
       "0        white        male  vehicular       False            True  ...   \n",
       "1        white        male  vehicular       False           False  ...   \n",
       "2        white      female  vehicular       False           False  ...   \n",
       "3        white        male  vehicular       False           False  ...   \n",
       "4     hispanic      female  vehicular       False            True  ...   \n",
       "\n",
       "  contraband_alcohol contraband_other frisk_performed search_conducted  \\\n",
       "0              False              NaN             NaN            False   \n",
       "1              False            False           False             True   \n",
       "2              False              NaN             NaN            False   \n",
       "3              False              NaN             NaN            False   \n",
       "4              False              NaN             NaN            False   \n",
       "\n",
       "  search_basis  reason_for_stop vehicle_type vehicle_registration_state  \\\n",
       "0          NaN            Speed    Passenger                         MA   \n",
       "1        other              NaN   Commercial                         MA   \n",
       "2          NaN              NaN    Passenger                         MA   \n",
       "3          NaN              NaN   Commercial                         MA   \n",
       "4          NaN              NaN   Commercial                         MA   \n",
       "\n",
       "   raw_Race      time  \n",
       "0     White  00:06:00  \n",
       "1     White  00:06:00  \n",
       "2     White  00:06:00  \n",
       "3     White  00:06:00  \n",
       "4  Hispanic  00:06:00  \n",
       "\n",
       "[5 rows x 25 columns]"
      ]
     },
     "execution_count": 4,
     "metadata": {},
     "output_type": "execute_result"
    }
   ],
   "source": [
    "data.head()"
   ]
  },
  {
   "cell_type": "code",
   "execution_count": 5,
   "metadata": {},
   "outputs": [],
   "source": [
    "#Convering race, sex, location etc to categorical\n",
    "data.iloc[:,np.r_[2:4,5:8,9:12,19:23]]=data.iloc[:,np.r_[2:4,5:8,9:12,19:23]].astype(\"category\")"
   ]
  },
  {
   "cell_type": "code",
   "execution_count": 25,
   "metadata": {},
   "outputs": [
    {
     "name": "stdout",
     "output_type": "stream",
     "text": [
      "<class 'pandas.core.frame.DataFrame'>\n",
      "Int64Index: 3386549 entries, 0 to 3416237\n",
      "Data columns (total 25 columns):\n",
      " #   Column                      Dtype   \n",
      "---  ------                      -----   \n",
      " 0   raw_row_number              int64   \n",
      " 1   date                        object  \n",
      " 2   location                    category\n",
      " 3   county_name                 category\n",
      " 4   subject_age                 float64 \n",
      " 5   subject_race                category\n",
      " 6   subject_sex                 category\n",
      " 7   type                        category\n",
      " 8   arrest_made                 object  \n",
      " 9   citation_issued             category\n",
      " 10  warning_issued              category\n",
      " 11  outcome                     category\n",
      " 12  contraband_found            object  \n",
      " 13  contraband_drugs            object  \n",
      " 14  contraband_weapons          object  \n",
      " 15  contraband_alcohol          bool    \n",
      " 16  contraband_other            object  \n",
      " 17  frisk_performed             object  \n",
      " 18  search_conducted            bool    \n",
      " 19  search_basis                category\n",
      " 20  reason_for_stop             category\n",
      " 21  vehicle_type                category\n",
      " 22  vehicle_registration_state  category\n",
      " 23  raw_Race                    object  \n",
      " 24  time                        object  \n",
      "dtypes: bool(2), category(12), float64(1), int64(1), object(9)\n",
      "memory usage: 358.5+ MB\n"
     ]
    }
   ],
   "source": [
    "data.info()"
   ]
  },
  {
   "cell_type": "code",
   "execution_count": 38,
   "metadata": {},
   "outputs": [
    {
     "data": {
      "text/plain": [
       "raw_row_number                 0.000000\n",
       "date                           0.000000\n",
       "location                       0.192881\n",
       "county_name                    0.192881\n",
       "subject_age                    4.251496\n",
       "subject_race                   0.000000\n",
       "subject_sex                    0.066616\n",
       "type                           0.000000\n",
       "arrest_made                    0.026546\n",
       "citation_issued                0.026546\n",
       "warning_issued                 0.026546\n",
       "outcome                        0.198019\n",
       "contraband_found              98.365711\n",
       "contraband_drugs              98.365711\n",
       "contraband_weapons            98.365711\n",
       "contraband_alcohol             0.000000\n",
       "contraband_other              98.365711\n",
       "frisk_performed               98.396125\n",
       "search_conducted               0.000000\n",
       "search_basis                  98.501956\n",
       "reason_for_stop               48.285615\n",
       "vehicle_type                   0.139641\n",
       "vehicle_registration_state     0.270423\n",
       "raw_Race                       0.000000\n",
       "time                           0.000000\n",
       "rise                           0.000000\n",
       "set                            0.000000\n",
       "sunrise                        0.000000\n",
       "sunset                         0.000000\n",
       "dtype: float64"
      ]
     },
     "execution_count": 38,
     "metadata": {},
     "output_type": "execute_result"
    }
   ],
   "source": [
    "#Checking proportion of missing values\n",
    "data.isnull().sum()*100/len(data)"
   ]
  },
  {
   "cell_type": "markdown",
   "metadata": {},
   "source": [
    "<!-- We will use the KNN Imputer for imputing values into the Age and Sex variables for better precision -->"
   ]
  },
  {
   "cell_type": "markdown",
   "metadata": {},
   "source": [
    "We impute null values using an MICE imputer from fancyimpute, a popular algorithm.\n",
    "Check imputation algorithms here:\n",
    "https://www.kaggle.com/residentmario/simple-techniques-for-missing-data-imputation\n",
    "\n",
    "\n",
    "Please fix below code(s) to impute values for age and sex, the missing values are < 1% for sex so we can remove them for more precision for age it is 4.6%"
   ]
  },
  {
   "cell_type": "code",
   "execution_count": null,
   "metadata": {},
   "outputs": [],
   "source": [
    "# from sklearn.impute import KNNImputer\n",
    "\n",
    "# imputer = KNNImputer(n_neighbors=2, weights=\"uniform\")\n",
    "\n",
    "# data[\"subject_age\"]= imputer.fit_transform(data[['subject_age']])\n",
    "# # data['subject_sex'] = imputer.fit_transform(data[['subject_sex']])\n",
    "# data[\"subject_age\"].isnull().sum()\n",
    "# print(data['subject_age'])\n",
    "# # print(data['subject_sex'])"
   ]
  },
  {
   "cell_type": "code",
   "execution_count": null,
   "metadata": {},
   "outputs": [],
   "source": [
    "# Impute the missing values.\n",
    "\n",
    "# from fancyimpute import MICE\n",
    "# trans = MICE(verbose=False)\n",
    "# data[\"subject_sex\"] = trans.complete(data[\"subject_sex\"])\n"
   ]
  },
  {
   "cell_type": "code",
   "execution_count": 6,
   "metadata": {},
   "outputs": [
    {
     "data": {
      "text/plain": [
       "[white, hispanic, black, asian/pacific islander]\n",
       "Categories (4, object): [white, hispanic, black, asian/pacific islander]"
      ]
     },
     "execution_count": 6,
     "metadata": {},
     "output_type": "execute_result"
    }
   ],
   "source": [
    "#Removing null, and unknown values from race\n",
    "data=data[-data[\"subject_race\"].isin([\"other\",\"unknown\",np.nan])]\n",
    "data[\"subject_race\"].unique()"
   ]
  },
  {
   "cell_type": "markdown",
   "metadata": {},
   "source": [
    "Encoding categorical variables for future analyses"
   ]
  },
  {
   "cell_type": "code",
   "execution_count": null,
   "metadata": {},
   "outputs": [],
   "source": [
    "## One hot encoding race and other categorical variables\n",
    "# import sklearn.preprocessing.LabelEncoder\n",
    "# label_encoder = LabelEncoder()\n",
    "# df = pd.DataFrame(data)\n",
    "# df['subject_race'] = label_encoder.fit_transform(df['subject_race'])\n",
    "# df['arrest_made'] = label_encoder.fit_transform(df['arrest_made'])\n",
    "# df['citation_issued'] = label_encoder.fit_transform(df['citation_issued'])\n",
    "# df['outcome'] = label_encoder.fit_transform(df['outcome'])\n",
    "# df['contraband_found'] = label_encoder.fit_transform(df['contraband_found'])\n",
    "# df['contraband_drugs'] = label_encoder.fit_transform(df['contraband_drugs'])\n",
    "# df['contraband_weapons'] = label_encoder.fit_transform(df['contraband_weapons'])\n",
    "# df['contraband_alcohol'] = label_encoder.fit_transform(df['contraband_alcohol'])\n",
    "# df['contraband_other'] = label_encoder.fit_transform(df['contraband_other'])"
   ]
  },
  {
   "cell_type": "code",
   "execution_count": 28,
   "metadata": {},
   "outputs": [],
   "source": [
    "from suntime import Sun, SunTimeException\n",
    "\n",
    "latitude = 42.407211\n",
    "longitude = -71.382439\n",
    "\n",
    "sun = Sun(latitude, longitude)\n",
    "\n",
    "# Get sunrise and sunset in UTC\n",
    "# sunrise=[]\n",
    "sunset=[]\n",
    "for value in data[\"date\"]:\n",
    "#     sunrise.append(sun.get_sunrise_time(value))\n",
    "    sunset.append(sun.get_sunset_time(value))\n",
    "#     format(value.strftime('%H:%M'))\n",
    "                  \n",
    "# data[\"sunrise\"]=sunrise\n",
    "# data[\"sunset\"]=sunset\n",
    "#sunset=[d.time() for d in sunset]"
   ]
  },
  {
   "cell_type": "markdown",
   "metadata": {},
   "source": [
    "We now create new values for search, success rates"
   ]
  },
  {
   "cell_type": "code",
   "execution_count": 27,
   "metadata": {},
   "outputs": [
    {
     "name": "stdout",
     "output_type": "stream",
     "text": [
      "2007-01-07 21:29:00+00:00\n",
      "00:06:00\n"
     ]
    }
   ],
   "source": [
    "print(sunset[1])\n",
    "\n",
    "print(data[\"time\"][1])"
   ]
  },
  {
   "cell_type": "code",
   "execution_count": 25,
   "metadata": {},
   "outputs": [
    {
     "ename": "AttributeError",
     "evalue": "'datetime.time' object has no attribute 'time'",
     "output_type": "error",
     "traceback": [
      "\u001b[0;31m---------------------------------------------------------------------------\u001b[0m",
      "\u001b[0;31mAttributeError\u001b[0m                            Traceback (most recent call last)",
      "\u001b[0;32m<ipython-input-25-972062aa0b49>\u001b[0m in \u001b[0;36m<module>\u001b[0;34m\u001b[0m\n\u001b[1;32m      3\u001b[0m \u001b[0;34m\u001b[0m\u001b[0m\n\u001b[1;32m      4\u001b[0m \u001b[0;31m# idx2.intersection(idx1)\u001b[0m\u001b[0;34m\u001b[0m\u001b[0;34m\u001b[0m\u001b[0;34m\u001b[0m\u001b[0m\n\u001b[0;32m----> 5\u001b[0;31m \u001b[0msunset\u001b[0m\u001b[0;34m=\u001b[0m\u001b[0;34m[\u001b[0m\u001b[0md\u001b[0m\u001b[0;34m.\u001b[0m\u001b[0mtime\u001b[0m\u001b[0;34m(\u001b[0m\u001b[0;34m)\u001b[0m \u001b[0;32mfor\u001b[0m \u001b[0md\u001b[0m \u001b[0;32min\u001b[0m \u001b[0msunset\u001b[0m\u001b[0;34m]\u001b[0m\u001b[0;34m\u001b[0m\u001b[0;34m\u001b[0m\u001b[0m\n\u001b[0m",
      "\u001b[0;32m<ipython-input-25-972062aa0b49>\u001b[0m in \u001b[0;36m<listcomp>\u001b[0;34m(.0)\u001b[0m\n\u001b[1;32m      3\u001b[0m \u001b[0;34m\u001b[0m\u001b[0m\n\u001b[1;32m      4\u001b[0m \u001b[0;31m# idx2.intersection(idx1)\u001b[0m\u001b[0;34m\u001b[0m\u001b[0;34m\u001b[0m\u001b[0;34m\u001b[0m\u001b[0m\n\u001b[0;32m----> 5\u001b[0;31m \u001b[0msunset\u001b[0m\u001b[0;34m=\u001b[0m\u001b[0;34m[\u001b[0m\u001b[0md\u001b[0m\u001b[0;34m.\u001b[0m\u001b[0mtime\u001b[0m\u001b[0;34m(\u001b[0m\u001b[0;34m)\u001b[0m \u001b[0;32mfor\u001b[0m \u001b[0md\u001b[0m \u001b[0;32min\u001b[0m \u001b[0msunset\u001b[0m\u001b[0;34m]\u001b[0m\u001b[0;34m\u001b[0m\u001b[0;34m\u001b[0m\u001b[0m\n\u001b[0m",
      "\u001b[0;31mAttributeError\u001b[0m: 'datetime.time' object has no attribute 'time'"
     ]
    }
   ],
   "source": [
    "# idx1=pd.Index(data[\"time\"])\n",
    "# idx2=pd.Index(sunset)\n",
    "\n",
    "# idx2.intersection(idx1)\n",
    "sunset=[d.time() for d in sunset]\n"
   ]
  },
  {
   "cell_type": "code",
   "execution_count": 9,
   "metadata": {},
   "outputs": [
    {
     "ename": "TypeError",
     "evalue": "list indices must be integers or slices, not datetime.time",
     "output_type": "error",
     "traceback": [
      "\u001b[0;31m---------------------------------------------------------------------------\u001b[0m",
      "\u001b[0;31mTypeError\u001b[0m                                 Traceback (most recent call last)",
      "\u001b[0;32m<ipython-input-9-fd681dabddb1>\u001b[0m in \u001b[0;36m<module>\u001b[0;34m\u001b[0m\n\u001b[1;32m      2\u001b[0m \u001b[0msunset\u001b[0m\u001b[0;34m=\u001b[0m\u001b[0;34m[\u001b[0m\u001b[0;34m]\u001b[0m\u001b[0;34m\u001b[0m\u001b[0;34m\u001b[0m\u001b[0m\n\u001b[1;32m      3\u001b[0m \u001b[0;32mfor\u001b[0m \u001b[0mvalue\u001b[0m \u001b[0;32min\u001b[0m \u001b[0mdata\u001b[0m\u001b[0;34m[\u001b[0m\u001b[0;34m\"time\"\u001b[0m\u001b[0;34m]\u001b[0m\u001b[0;34m:\u001b[0m\u001b[0;34m\u001b[0m\u001b[0;34m\u001b[0m\u001b[0m\n\u001b[0;32m----> 4\u001b[0;31m     \u001b[0;32mif\u001b[0m \u001b[0mvalue\u001b[0m\u001b[0;34m==\u001b[0m\u001b[0msunset\u001b[0m\u001b[0;34m[\u001b[0m\u001b[0mvalue\u001b[0m\u001b[0;34m]\u001b[0m\u001b[0;34m:\u001b[0m\u001b[0;34m\u001b[0m\u001b[0;34m\u001b[0m\u001b[0m\n\u001b[0m\u001b[1;32m      5\u001b[0m         \u001b[0msunset\u001b[0m\u001b[0;34m.\u001b[0m\u001b[0mappend\u001b[0m\u001b[0;34m(\u001b[0m\u001b[0;34m\"True\"\u001b[0m\u001b[0;34m)\u001b[0m\u001b[0;34m\u001b[0m\u001b[0;34m\u001b[0m\u001b[0m\n\u001b[1;32m      6\u001b[0m     \u001b[0;32melse\u001b[0m\u001b[0;34m:\u001b[0m\u001b[0;34m\u001b[0m\u001b[0;34m\u001b[0m\u001b[0m\n",
      "\u001b[0;31mTypeError\u001b[0m: list indices must be integers or slices, not datetime.time"
     ]
    }
   ],
   "source": [
    "# Creating binomial variable for whether the stop was after \n",
    "sunset=[]\n",
    "for value in data[\"time\"]:\n",
    "    if value==sunset[value]:\n",
    "        sunset.append(\"True\")\n",
    "    else:\n",
    "        sunset.append(\"False\")\n",
    "\n",
    "data[\"sunset\"]=sunset"
   ]
  },
  {
   "cell_type": "code",
   "execution_count": 41,
   "metadata": {},
   "outputs": [],
   "source": [
    "group_agg = data.groupby([\"date\"]).agg({\n",
    "  \"search_conducted\" : lambda x: x.mean(skipna = True), \n",
    "  \"frisk_performed\" : lambda x: x.mean(skipna = True), \n",
    "  \"contraband_found\" : lambda x: x.mean(skipna = True)\n",
    "  })"
   ]
  },
  {
   "cell_type": "code",
   "execution_count": 42,
   "metadata": {},
   "outputs": [
    {
     "name": "stdout",
     "output_type": "stream",
     "text": [
      "            search_rate  frisk_rate  success_rate\n",
      "date                                             \n",
      "2007-01-01     0.039474         0.5      0.333333\n",
      "2007-01-02     0.021739         0.0      1.000000\n",
      "2007-01-03     0.000000         NaN           NaN\n",
      "2007-01-04     0.000000         NaN           NaN\n",
      "2007-01-05     0.024390         0.0      0.000000\n",
      "...                 ...         ...           ...\n",
      "2015-12-27     0.009747         0.4      0.600000\n",
      "2015-12-28     0.008997         0.0      0.571429\n",
      "2015-12-29     0.008380         0.0      0.666667\n",
      "2015-12-30     0.003106         0.0      0.000000\n",
      "2015-12-31     0.008902         0.0      1.000000\n",
      "\n",
      "[3287 rows x 3 columns]\n"
     ]
    }
   ],
   "source": [
    "group_agg.rename(columns={\"search_conducted\" : 'search_rate', \"frisk_performed\" : 'frisk_rate',\"contraband_found\":'success_rate'}, inplace=True)\n",
    "\n",
    "print(group_agg)"
   ]
  },
  {
   "cell_type": "code",
   "execution_count": null,
   "metadata": {},
   "outputs": [],
   "source": []
  },
  {
   "cell_type": "code",
   "execution_count": null,
   "metadata": {},
   "outputs": [],
   "source": []
  }
 ],
 "metadata": {
  "kernelspec": {
   "display_name": "Python 3",
   "language": "python",
   "name": "python3"
  },
  "language_info": {
   "codemirror_mode": {
    "name": "ipython",
    "version": 3
   },
   "file_extension": ".py",
   "mimetype": "text/x-python",
   "name": "python",
   "nbconvert_exporter": "python",
   "pygments_lexer": "ipython3",
   "version": "3.7.6"
  }
 },
 "nbformat": 4,
 "nbformat_minor": 4
}
