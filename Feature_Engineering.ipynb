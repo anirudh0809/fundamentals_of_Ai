{
 "cells": [
  {
   "cell_type": "markdown",
   "metadata": {},
   "source": [
    "This week we are tasked with exploring Linear and Logistic Regression models to predict an outcome. Based on our initial Exploratory analysis, we will perform feature extraction and analysis to determine what relevant features can be used to build our model"
   ]
  },
  {
   "cell_type": "code",
   "execution_count": 7,
   "metadata": {},
   "outputs": [],
   "source": [
    "import pandas as pd\n",
    "import numpy as np\n",
    "import matplotlib.pyplot as plt\n",
    "import seaborn as sns"
   ]
  },
  {
   "cell_type": "code",
   "execution_count": 38,
   "metadata": {},
   "outputs": [],
   "source": [
    "#Importing data\n",
    "openpolicing_path=\"ma_statewide_2020_04_01.csv\"\n",
    "\n",
    "data=pd.read_csv(openpolicing_path,low_memory=False)"
   ]
  },
  {
   "cell_type": "code",
   "execution_count": 40,
   "metadata": {},
   "outputs": [
    {
     "data": {
      "text/html": [
       "<div>\n",
       "<style scoped>\n",
       "    .dataframe tbody tr th:only-of-type {\n",
       "        vertical-align: middle;\n",
       "    }\n",
       "\n",
       "    .dataframe tbody tr th {\n",
       "        vertical-align: top;\n",
       "    }\n",
       "\n",
       "    .dataframe thead th {\n",
       "        text-align: right;\n",
       "    }\n",
       "</style>\n",
       "<table border=\"1\" class=\"dataframe\">\n",
       "  <thead>\n",
       "    <tr style=\"text-align: right;\">\n",
       "      <th></th>\n",
       "      <th>raw_row_number</th>\n",
       "      <th>date</th>\n",
       "      <th>location</th>\n",
       "      <th>county_name</th>\n",
       "      <th>subject_age</th>\n",
       "      <th>subject_race</th>\n",
       "      <th>subject_sex</th>\n",
       "      <th>type</th>\n",
       "      <th>arrest_made</th>\n",
       "      <th>citation_issued</th>\n",
       "      <th>warning_issued</th>\n",
       "      <th>outcome</th>\n",
       "      <th>contraband_found</th>\n",
       "      <th>contraband_drugs</th>\n",
       "      <th>contraband_weapons</th>\n",
       "      <th>contraband_alcohol</th>\n",
       "      <th>contraband_other</th>\n",
       "      <th>frisk_performed</th>\n",
       "      <th>search_conducted</th>\n",
       "      <th>search_basis</th>\n",
       "      <th>reason_for_stop</th>\n",
       "      <th>vehicle_type</th>\n",
       "      <th>vehicle_registration_state</th>\n",
       "      <th>raw_Race</th>\n",
       "    </tr>\n",
       "  </thead>\n",
       "  <tbody>\n",
       "    <tr>\n",
       "      <th>0</th>\n",
       "      <td>1</td>\n",
       "      <td>2007-06-06</td>\n",
       "      <td>MIDDLEBOROUGH</td>\n",
       "      <td>Plymouth County</td>\n",
       "      <td>33.0</td>\n",
       "      <td>white</td>\n",
       "      <td>male</td>\n",
       "      <td>vehicular</td>\n",
       "      <td>False</td>\n",
       "      <td>True</td>\n",
       "      <td>False</td>\n",
       "      <td>citation</td>\n",
       "      <td>NaN</td>\n",
       "      <td>NaN</td>\n",
       "      <td>NaN</td>\n",
       "      <td>False</td>\n",
       "      <td>NaN</td>\n",
       "      <td>NaN</td>\n",
       "      <td>False</td>\n",
       "      <td>NaN</td>\n",
       "      <td>Speed</td>\n",
       "      <td>Passenger</td>\n",
       "      <td>MA</td>\n",
       "      <td>White</td>\n",
       "    </tr>\n",
       "    <tr>\n",
       "      <th>1</th>\n",
       "      <td>2</td>\n",
       "      <td>2007-06-07</td>\n",
       "      <td>SEEKONK</td>\n",
       "      <td>Bristol County</td>\n",
       "      <td>36.0</td>\n",
       "      <td>white</td>\n",
       "      <td>male</td>\n",
       "      <td>vehicular</td>\n",
       "      <td>False</td>\n",
       "      <td>False</td>\n",
       "      <td>True</td>\n",
       "      <td>warning</td>\n",
       "      <td>False</td>\n",
       "      <td>False</td>\n",
       "      <td>False</td>\n",
       "      <td>False</td>\n",
       "      <td>False</td>\n",
       "      <td>False</td>\n",
       "      <td>True</td>\n",
       "      <td>other</td>\n",
       "      <td>NaN</td>\n",
       "      <td>Commercial</td>\n",
       "      <td>MA</td>\n",
       "      <td>White</td>\n",
       "    </tr>\n",
       "    <tr>\n",
       "      <th>2</th>\n",
       "      <td>3</td>\n",
       "      <td>2007-06-07</td>\n",
       "      <td>MEDFORD</td>\n",
       "      <td>Middlesex County</td>\n",
       "      <td>56.0</td>\n",
       "      <td>white</td>\n",
       "      <td>female</td>\n",
       "      <td>vehicular</td>\n",
       "      <td>False</td>\n",
       "      <td>False</td>\n",
       "      <td>True</td>\n",
       "      <td>warning</td>\n",
       "      <td>NaN</td>\n",
       "      <td>NaN</td>\n",
       "      <td>NaN</td>\n",
       "      <td>False</td>\n",
       "      <td>NaN</td>\n",
       "      <td>NaN</td>\n",
       "      <td>False</td>\n",
       "      <td>NaN</td>\n",
       "      <td>NaN</td>\n",
       "      <td>Passenger</td>\n",
       "      <td>MA</td>\n",
       "      <td>White</td>\n",
       "    </tr>\n",
       "    <tr>\n",
       "      <th>3</th>\n",
       "      <td>4</td>\n",
       "      <td>2007-06-07</td>\n",
       "      <td>MEDFORD</td>\n",
       "      <td>Middlesex County</td>\n",
       "      <td>37.0</td>\n",
       "      <td>white</td>\n",
       "      <td>male</td>\n",
       "      <td>vehicular</td>\n",
       "      <td>False</td>\n",
       "      <td>False</td>\n",
       "      <td>True</td>\n",
       "      <td>warning</td>\n",
       "      <td>NaN</td>\n",
       "      <td>NaN</td>\n",
       "      <td>NaN</td>\n",
       "      <td>False</td>\n",
       "      <td>NaN</td>\n",
       "      <td>NaN</td>\n",
       "      <td>False</td>\n",
       "      <td>NaN</td>\n",
       "      <td>NaN</td>\n",
       "      <td>Commercial</td>\n",
       "      <td>MA</td>\n",
       "      <td>White</td>\n",
       "    </tr>\n",
       "    <tr>\n",
       "      <th>4</th>\n",
       "      <td>5</td>\n",
       "      <td>2007-06-07</td>\n",
       "      <td>EVERETT</td>\n",
       "      <td>Middlesex County</td>\n",
       "      <td>22.0</td>\n",
       "      <td>hispanic</td>\n",
       "      <td>female</td>\n",
       "      <td>vehicular</td>\n",
       "      <td>False</td>\n",
       "      <td>True</td>\n",
       "      <td>False</td>\n",
       "      <td>citation</td>\n",
       "      <td>NaN</td>\n",
       "      <td>NaN</td>\n",
       "      <td>NaN</td>\n",
       "      <td>False</td>\n",
       "      <td>NaN</td>\n",
       "      <td>NaN</td>\n",
       "      <td>False</td>\n",
       "      <td>NaN</td>\n",
       "      <td>NaN</td>\n",
       "      <td>Commercial</td>\n",
       "      <td>MA</td>\n",
       "      <td>Hispanic</td>\n",
       "    </tr>\n",
       "  </tbody>\n",
       "</table>\n",
       "</div>"
      ],
      "text/plain": [
       "   raw_row_number        date       location       county_name  subject_age  \\\n",
       "0               1  2007-06-06  MIDDLEBOROUGH   Plymouth County         33.0   \n",
       "1               2  2007-06-07        SEEKONK    Bristol County         36.0   \n",
       "2               3  2007-06-07        MEDFORD  Middlesex County         56.0   \n",
       "3               4  2007-06-07        MEDFORD  Middlesex County         37.0   \n",
       "4               5  2007-06-07        EVERETT  Middlesex County         22.0   \n",
       "\n",
       "  subject_race subject_sex       type arrest_made citation_issued  \\\n",
       "0        white        male  vehicular       False            True   \n",
       "1        white        male  vehicular       False           False   \n",
       "2        white      female  vehicular       False           False   \n",
       "3        white        male  vehicular       False           False   \n",
       "4     hispanic      female  vehicular       False            True   \n",
       "\n",
       "  warning_issued   outcome contraband_found contraband_drugs  \\\n",
       "0          False  citation              NaN              NaN   \n",
       "1           True   warning            False            False   \n",
       "2           True   warning              NaN              NaN   \n",
       "3           True   warning              NaN              NaN   \n",
       "4          False  citation              NaN              NaN   \n",
       "\n",
       "  contraband_weapons  contraband_alcohol contraband_other frisk_performed  \\\n",
       "0                NaN               False              NaN             NaN   \n",
       "1              False               False            False           False   \n",
       "2                NaN               False              NaN             NaN   \n",
       "3                NaN               False              NaN             NaN   \n",
       "4                NaN               False              NaN             NaN   \n",
       "\n",
       "   search_conducted search_basis reason_for_stop vehicle_type  \\\n",
       "0             False          NaN           Speed    Passenger   \n",
       "1              True        other             NaN   Commercial   \n",
       "2             False          NaN             NaN    Passenger   \n",
       "3             False          NaN             NaN   Commercial   \n",
       "4             False          NaN             NaN   Commercial   \n",
       "\n",
       "  vehicle_registration_state  raw_Race  \n",
       "0                         MA     White  \n",
       "1                         MA     White  \n",
       "2                         MA     White  \n",
       "3                         MA     White  \n",
       "4                         MA  Hispanic  "
      ]
     },
     "execution_count": 40,
     "metadata": {},
     "output_type": "execute_result"
    }
   ],
   "source": [
    "data.head()"
   ]
  },
  {
   "cell_type": "code",
   "execution_count": 28,
   "metadata": {},
   "outputs": [
    {
     "name": "stdout",
     "output_type": "stream",
     "text": [
      "<class 'pandas.core.frame.DataFrame'>\n",
      "RangeIndex: 3416238 entries, 0 to 3416237\n",
      "Data columns (total 24 columns):\n",
      " #   Column                      Dtype  \n",
      "---  ------                      -----  \n",
      " 0   raw_row_number              int64  \n",
      " 1   date                        object \n",
      " 2   location                    object \n",
      " 3   county_name                 object \n",
      " 4   subject_age                 float64\n",
      " 5   subject_race                object \n",
      " 6   subject_sex                 object \n",
      " 7   type                        object \n",
      " 8   arrest_made                 object \n",
      " 9   citation_issued             object \n",
      " 10  warning_issued              object \n",
      " 11  outcome                     object \n",
      " 12  contraband_found            object \n",
      " 13  contraband_drugs            object \n",
      " 14  contraband_weapons          object \n",
      " 15  contraband_alcohol          bool   \n",
      " 16  contraband_other            object \n",
      " 17  frisk_performed             object \n",
      " 18  search_conducted            bool   \n",
      " 19  search_basis                object \n",
      " 20  reason_for_stop             object \n",
      " 21  vehicle_type                object \n",
      " 22  vehicle_registration_state  object \n",
      " 23  raw_Race                    object \n",
      "dtypes: bool(2), float64(1), int64(1), object(20)\n",
      "memory usage: 579.9+ MB\n"
     ]
    },
    {
     "data": {
      "text/plain": [
       "vehicular    3416238\n",
       "Name: type, dtype: int64"
      ]
     },
     "execution_count": 28,
     "metadata": {},
     "output_type": "execute_result"
    }
   ],
   "source": [
    "data.info()\n",
    "\n",
    "data.contraband_found()"
   ]
  },
  {
   "cell_type": "code",
   "execution_count": 70,
   "metadata": {},
   "outputs": [],
   "source": [
    "#Convert date to datetype\n",
    "data.date\n",
    "data[\"date\"] = pd.to_datetime(data.date, format=\"%Y-%M-%d \")\n",
    "# data[\"year\"] = data.date.dt.year\n",
    "data['time'] = [d.time() for d in data['date']]\n",
    "\n",
    "data['date'] = pd.to_datetime(data['date']).dt.date"
   ]
  },
  {
   "cell_type": "code",
   "execution_count": 30,
   "metadata": {},
   "outputs": [],
   "source": [
    "#Convering race, sex, location etc to categorical\n",
    "data.iloc[:,np.r_[2:4,5:8,9:12,19:23]]=data.iloc[:,np.r_[2:4,5:8,9:12,19:23]].astype(\"category\")\n",
    "\n"
   ]
  },
  {
   "cell_type": "code",
   "execution_count": 71,
   "metadata": {},
   "outputs": [
    {
     "name": "stdout",
     "output_type": "stream",
     "text": [
      "<class 'pandas.core.frame.DataFrame'>\n",
      "RangeIndex: 3416238 entries, 0 to 3416237\n",
      "Data columns (total 26 columns):\n",
      " #   Column                      Dtype  \n",
      "---  ------                      -----  \n",
      " 0   raw_row_number              int64  \n",
      " 1   date                        object \n",
      " 2   location                    object \n",
      " 3   county_name                 object \n",
      " 4   subject_age                 float64\n",
      " 5   subject_race                object \n",
      " 6   subject_sex                 object \n",
      " 7   type                        object \n",
      " 8   arrest_made                 object \n",
      " 9   citation_issued             object \n",
      " 10  warning_issued              object \n",
      " 11  outcome                     object \n",
      " 12  contraband_found            object \n",
      " 13  contraband_drugs            object \n",
      " 14  contraband_weapons          object \n",
      " 15  contraband_alcohol          bool   \n",
      " 16  contraband_other            object \n",
      " 17  frisk_performed             object \n",
      " 18  search_conducted            bool   \n",
      " 19  search_basis                object \n",
      " 20  reason_for_stop             object \n",
      " 21  vehicle_type                object \n",
      " 22  vehicle_registration_state  object \n",
      " 23  raw_Race                    object \n",
      " 24  year                        int64  \n",
      " 25  time                        object \n",
      "dtypes: bool(2), float64(1), int64(2), object(21)\n",
      "memory usage: 632.0+ MB\n"
     ]
    }
   ],
   "source": [
    "data.info()"
   ]
  },
  {
   "cell_type": "code",
   "execution_count": 32,
   "metadata": {},
   "outputs": [
    {
     "data": {
      "text/plain": [
       "raw_row_number                 0.000000\n",
       "date                           0.000000\n",
       "location                       0.195127\n",
       "county_name                    0.195127\n",
       "subject_age                    4.625146\n",
       "subject_race                   0.048709\n",
       "subject_sex                    0.457316\n",
       "type                           0.000000\n",
       "arrest_made                    0.026813\n",
       "citation_issued                0.026813\n",
       "warning_issued                 0.026813\n",
       "outcome                        0.200747\n",
       "contraband_found              98.368673\n",
       "contraband_drugs              98.368673\n",
       "contraband_weapons            98.368673\n",
       "contraband_alcohol             0.000000\n",
       "contraband_other              98.368673\n",
       "frisk_performed               98.400843\n",
       "search_conducted               0.000000\n",
       "search_basis                  98.506281\n",
       "reason_for_stop               48.579432\n",
       "vehicle_type                   0.145277\n",
       "vehicle_registration_state     0.287275\n",
       "raw_Race                       0.048709\n",
       "dtype: float64"
      ]
     },
     "execution_count": 32,
     "metadata": {},
     "output_type": "execute_result"
    }
   ],
   "source": [
    "#Checking proportion of missing values\n",
    "data.isnull().sum()*100/len(data)"
   ]
  },
  {
   "cell_type": "markdown",
   "metadata": {},
   "source": [
    "<!-- We will use the KNN Imputer for imputing values into the Age and Sex variables for better precision -->"
   ]
  },
  {
   "cell_type": "markdown",
   "metadata": {},
   "source": [
    "We impute null values using an MICE imputer from fancyimpute, a popular algorithm.\n",
    "Check imputation algorithms here:\n",
    "https://www.kaggle.com/residentmario/simple-techniques-for-missing-data-imputation"
   ]
  },
  {
   "cell_type": "code",
   "execution_count": null,
   "metadata": {},
   "outputs": [],
   "source": [
    "# from sklearn.impute import KNNImputer\n",
    "\n",
    "# imputer = KNNImputer(n_neighbors=2, weights=\"uniform\")\n",
    "\n",
    "# data[\"subject_age\"]= imputer.fit_transform(data[['subject_age']])\n",
    "# # data['subject_sex'] = imputer.fit_transform(data[['subject_sex']])\n",
    "# data[\"subject_age\"].isnull().sum()\n",
    "# print(data['subject_age'])\n",
    "# # print(data['subject_sex'])"
   ]
  },
  {
   "cell_type": "code",
   "execution_count": 19,
   "metadata": {},
   "outputs": [
    {
     "data": {
      "text/plain": [
       "0          False\n",
       "1          False\n",
       "2          False\n",
       "3          False\n",
       "4          False\n",
       "           ...  \n",
       "3416233    False\n",
       "3416234    False\n",
       "3416235    False\n",
       "3416236    False\n",
       "3416237    False\n",
       "Name: subject_race, Length: 3386549, dtype: bool"
      ]
     },
     "execution_count": 19,
     "metadata": {},
     "output_type": "execute_result"
    }
   ],
   "source": [
    "# Impute the missing values.\n",
    "\n",
    "# from fancyimpute import MICE\n",
    "# trans = MICE(verbose=False)\n",
    "# data[\"subject_sex\"] = trans.complete(data[\"subject_sex\"])\n"
   ]
  },
  {
   "cell_type": "code",
   "execution_count": 33,
   "metadata": {},
   "outputs": [
    {
     "data": {
      "text/plain": [
       "[white, hispanic, black, asian/pacific islander]\n",
       "Categories (4, object): [white, hispanic, black, asian/pacific islander]"
      ]
     },
     "execution_count": 33,
     "metadata": {},
     "output_type": "execute_result"
    }
   ],
   "source": [
    "#Removing null, and unknown values from race\n",
    "data=data[-data[\"subject_race\"].isin([\"other\",\"unknown\",np.nan])]\n",
    "data[\"subject_race\"].unique()"
   ]
  },
  {
   "cell_type": "markdown",
   "metadata": {},
   "source": [
    "We now create new values for search, success rates"
   ]
  },
  {
   "cell_type": "code",
   "execution_count": 79,
   "metadata": {},
   "outputs": [],
   "source": [
    "group_agg = data.groupby([\"date\"]).agg({\n",
    "  \"search_conducted\" : lambda x: x.mean(skipna = True), \n",
    "  \"frisk_performed\" : lambda x: x.mean(skipna = True), \n",
    "  \"contraband_found\" : lambda x: x.mean(skipna = True)\n",
    "  })"
   ]
  },
  {
   "cell_type": "code",
   "execution_count": 92,
   "metadata": {},
   "outputs": [
    {
     "name": "stdout",
     "output_type": "stream",
     "text": [
      "            search_rate  frisk_rate  success_rate\n",
      "date                                             \n",
      "2007-01-01     0.028747    0.052885      0.440171\n",
      "2007-01-02     0.043081    0.043011      0.372308\n",
      "2007-01-03     0.038253    0.045455      0.436782\n",
      "2007-01-04     0.038511    0.067568      0.365314\n",
      "2007-01-05     0.030079    0.038278      0.320833\n",
      "...                 ...         ...           ...\n",
      "2015-01-27     0.007410    0.070588      0.547619\n",
      "2015-01-28     0.011166    0.056452      0.464000\n",
      "2015-01-29     0.007691    0.051282      0.461538\n",
      "2015-01-30     0.006047    0.046154      0.307692\n",
      "2015-01-31     0.007370    0.000000      0.510638\n",
      "\n",
      "[279 rows x 3 columns]\n"
     ]
    }
   ],
   "source": [
    "group_agg.rename(columns={\"search_conducted\" : 'search_rate', \"frisk_performed\" : 'frisk_rate',\"contraband_found\":'success_rate'}, inplace=True)\n",
    "\n",
    "print(group_agg)"
   ]
  },
  {
   "cell_type": "code",
   "execution_count": null,
   "metadata": {},
   "outputs": [],
   "source": [
    "# One hot encoding race and other categorical variables\n",
    "import sklearn.preprocessing.LabelEncoder\n",
    "label_encoder = LabelEncoder()\n",
    "\n",
    "df['subject_race'] = label_encoder.fit_transform(df['subject_race'])\n",
    "df['arrest_made'] = label_encoder.fit_transform(df['arrest_made'])\n",
    "df['citation_issued'] = label_encoder.fit_transform(df['citation_issued'])\n",
    "df['outcome'] = label_encoder.fit_transform(df['outcome'])\n",
    "df['contraband_found'] = label_encoder.fit_transform(df['contraband_found'])\n",
    "df['contraband_drugs'] = label_encoder.fit_transform(df['contraband_drugs'])\n",
    "df['contraband_weapons'] = label_encoder.fit_transform(df['contraband_weapons'])\n",
    "df['contraband_alcohol'] = label_encoder.fit_transform(df['contraband_alcohol'])\n",
    "df['contraband_other'] = label_encoder.fit_transform(df['contraband_other'])"
   ]
  },
  {
   "cell_type": "code",
   "execution_count": null,
   "metadata": {},
   "outputs": [],
   "source": [
    "# #get sunset time\n",
    "# from astral import Astral\n",
    "# import datetime\n",
    "# a = Astral()\n",
    "# a.solar_depression = 'civil'\n",
    "# city = a[\"Boston\"]\n",
    "# sun = city.sun(date=datetime.date(group_agg[\"date\"]), local=True)"
   ]
  },
  {
   "cell_type": "code",
   "execution_count": 99,
   "metadata": {},
   "outputs": [],
   "source": [
    "# import ephem\n",
    "\n",
    "# def sunup(lat, long, time):\n",
    "#     o = ephem.Observer()\n",
    "#     o.long = long\n",
    "#     o.lat = lat\n",
    "#     o.date = time\n",
    "#     s = ephem.Sun()\n",
    "#     s.compute(o)\n",
    "#     return s.alt > 0\n",
    "\n",
    "# def daytime(datefield, feature):\n",
    "#     date = str(feature.attribute(datefield))\n",
    "#     xy = feature.geometry().asPoint()\n",
    "#     return [\"Night\",\"Day\"][sunup(str(xy[1]),str(xy[0]),date)]\n",
    "\n",
    "# daytime(data[\"date\"])"
   ]
  },
  {
   "cell_type": "code",
   "execution_count": null,
   "metadata": {},
   "outputs": [],
   "source": []
  },
  {
   "cell_type": "code",
   "execution_count": null,
   "metadata": {},
   "outputs": [],
   "source": []
  },
  {
   "cell_type": "code",
   "execution_count": null,
   "metadata": {},
   "outputs": [],
   "source": []
  },
  {
   "cell_type": "code",
   "execution_count": null,
   "metadata": {},
   "outputs": [],
   "source": []
  }
 ],
 "metadata": {
  "kernelspec": {
   "display_name": "Python 3.7.7 64-bit",
   "language": "python",
   "name": "python37764bit9b54279127224ef9b2285ab7e2d59623"
  },
  "language_info": {
   "codemirror_mode": {
    "name": "ipython",
    "version": 3
   },
   "file_extension": ".py",
   "mimetype": "text/x-python",
   "name": "python",
   "nbconvert_exporter": "python",
   "pygments_lexer": "ipython3",
   "version": "3.7.7"
  }
 },
 "nbformat": 4,
 "nbformat_minor": 4
}
