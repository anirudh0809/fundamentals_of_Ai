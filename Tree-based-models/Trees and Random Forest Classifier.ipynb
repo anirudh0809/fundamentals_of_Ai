{
 "cells": [
  {
   "cell_type": "markdown",
   "metadata": {},
   "source": [
    "## Implementation of Tree Based Models"
   ]
  },
  {
   "cell_type": "code",
   "execution_count": 13,
   "metadata": {},
   "outputs": [],
   "source": [
    "import pandas as pd\n",
    "import numpy as np\n",
    "import matplotlib as plt"
   ]
  },
  {
   "cell_type": "code",
   "execution_count": 14,
   "metadata": {},
   "outputs": [
    {
     "name": "stdout",
     "output_type": "stream",
     "text": [
      "The shape of the dataset is: (3416238, 24)\n"
     ]
    }
   ],
   "source": [
    "#Importing data\n",
    "openpolicing_path=\"C:/Users/SwetaMankala/Desktop/Assignments/EAI6000/ma_statewide_2020.csv\"\n",
    "\n",
    "data=pd.read_csv(openpolicing_path,low_memory=False)\n",
    "print('The shape of the dataset is:', data.shape)"
   ]
  },
  {
   "cell_type": "code",
   "execution_count": 15,
   "metadata": {},
   "outputs": [
    {
     "name": "stdout",
     "output_type": "stream",
     "text": [
      "Index(['raw_row_number', 'date', 'location', 'county_name', 'subject_age',\n",
      "       'subject_race', 'subject_sex', 'type', 'arrest_made', 'citation_issued',\n",
      "       'warning_issued', 'outcome', 'contraband_found', 'contraband_drugs',\n",
      "       'contraband_weapons', 'contraband_alcohol', 'contraband_other',\n",
      "       'frisk_performed', 'search_conducted', 'search_basis',\n",
      "       'reason_for_stop', 'vehicle_type', 'vehicle_registration_state',\n",
      "       'raw_Race'],\n",
      "      dtype='object')\n"
     ]
    }
   ],
   "source": [
    "print(data.columns)"
   ]
  },
  {
   "cell_type": "code",
   "execution_count": 16,
   "metadata": {},
   "outputs": [
    {
     "name": "stdout",
     "output_type": "stream",
     "text": [
      "Model Features: ['subject_age', 'subject_sex', 'type', 'arrest_made', 'citation_issued', 'warning_issued', 'outcome', 'contraband_found', 'contraband_drugs', 'contraband_weapons', 'contraband_alcohol', 'contraband_other', 'frisk_performed', 'search_conducted', 'search_basis', 'reason_for_stop', 'vehicle_type', 'vehicle_registration_state', 'raw_Race', 'location', 'county_name']\n",
      "Model Target: subject_race\n"
     ]
    }
   ],
   "source": [
    "#numerical features\n",
    "numerical_features = ['subject_age']\n",
    "\n",
    "#categorical features\n",
    "categorical_features = ['subject_sex', 'type', 'arrest_made', 'citation_issued', 'warning_issued',\n",
    "                       'outcome', 'contraband_found', 'contraband_drugs', 'contraband_weapons', 'contraband_alcohol',\n",
    "                       'contraband_other', 'frisk_performed', 'search_conducted', 'search_basis', 'reason_for_stop',\n",
    "                       'vehicle_type', 'vehicle_registration_state', 'raw_Race']\n",
    "\n",
    "#text features\n",
    "text_features = ['location', 'county_name']\n",
    "\n",
    "model_features = numerical_features + categorical_features + text_features\n",
    "model_target = 'subject_race'\n",
    "\n",
    "print('Model Features:', model_features)\n",
    "print('Model Target:', model_target)"
   ]
  },
  {
   "cell_type": "code",
   "execution_count": 17,
   "metadata": {},
   "outputs": [
    {
     "data": {
      "text/plain": [
       "white                     2543612\n",
       "black                      353548\n",
       "hispanic                   340271\n",
       "asian/pacific islander     167735\n",
       "other                       11072\n",
       "Name: subject_race, dtype: int64"
      ]
     },
     "execution_count": 17,
     "metadata": {},
     "output_type": "execute_result"
    }
   ],
   "source": [
    "data[model_target].value_counts()"
   ]
  },
  {
   "cell_type": "code",
   "execution_count": 20,
   "metadata": {},
   "outputs": [],
   "source": [
    "data[categorical_features + text_features] = data[categorical_features + text_features].astype('str')"
   ]
  },
  {
   "cell_type": "code",
   "execution_count": 21,
   "metadata": {},
   "outputs": [],
   "source": [
    "from sklearn.model_selection import train_test_split\n",
    "\n",
    "dataset, test_data = train_test_split(data, test_size=0.1, shuffle=True, random_state=23)"
   ]
  },
  {
   "cell_type": "code",
   "execution_count": 22,
   "metadata": {},
   "outputs": [],
   "source": [
    "train_data, val_data = train_test_split(dataset, test_size=0.7, shuffle=True, random_state=23)"
   ]
  },
  {
   "cell_type": "markdown",
   "metadata": {},
   "source": [
    "### Data Pipeline"
   ]
  },
  {
   "cell_type": "code",
   "execution_count": 24,
   "metadata": {},
   "outputs": [
    {
     "data": {
      "text/html": [
       "<style>div.sk-top-container {color: black;background-color: white;}div.sk-toggleable {background-color: white;}label.sk-toggleable__label {cursor: pointer;display: block;width: 100%;margin-bottom: 0;padding: 0.2em 0.3em;box-sizing: border-box;text-align: center;}div.sk-toggleable__content {max-height: 0;max-width: 0;overflow: hidden;text-align: left;background-color: #f0f8ff;}div.sk-toggleable__content pre {margin: 0.2em;color: black;border-radius: 0.25em;background-color: #f0f8ff;}input.sk-toggleable__control:checked~div.sk-toggleable__content {max-height: 200px;max-width: 100%;overflow: auto;}div.sk-estimator input.sk-toggleable__control:checked~label.sk-toggleable__label {background-color: #d4ebff;}div.sk-label input.sk-toggleable__control:checked~label.sk-toggleable__label {background-color: #d4ebff;}input.sk-hidden--visually {border: 0;clip: rect(1px 1px 1px 1px);clip: rect(1px, 1px, 1px, 1px);height: 1px;margin: -1px;overflow: hidden;padding: 0;position: absolute;width: 1px;}div.sk-estimator {font-family: monospace;background-color: #f0f8ff;margin: 0.25em 0.25em;border: 1px dotted black;border-radius: 0.25em;box-sizing: border-box;}div.sk-estimator:hover {background-color: #d4ebff;}div.sk-parallel-item::after {content: \"\";width: 100%;border-bottom: 1px solid gray;flex-grow: 1;}div.sk-label:hover label.sk-toggleable__label {background-color: #d4ebff;}div.sk-serial::before {content: \"\";position: absolute;border-left: 1px solid gray;box-sizing: border-box;top: 2em;bottom: 0;left: 50%;}div.sk-serial {display: flex;flex-direction: column;align-items: center;background-color: white;}div.sk-item {z-index: 1;}div.sk-parallel {display: flex;align-items: stretch;justify-content: center;background-color: white;}div.sk-parallel-item {display: flex;flex-direction: column;position: relative;background-color: white;}div.sk-parallel-item:first-child::after {align-self: flex-end;width: 50%;}div.sk-parallel-item:last-child::after {align-self: flex-start;width: 50%;}div.sk-parallel-item:only-child::after {width: 0;}div.sk-dashed-wrapped {border: 1px dashed gray;margin: 0.2em;box-sizing: border-box;padding-bottom: 0.1em;background-color: white;position: relative;}div.sk-label label {font-family: monospace;font-weight: bold;background-color: white;display: inline-block;line-height: 1.2em;}div.sk-label-container {position: relative;z-index: 2;text-align: center;}div.sk-container {display: inline-block;position: relative;}</style><div class=\"sk-top-container\"><div class=\"sk-container\"><div class=\"sk-item sk-dashed-wrapped\"><div class=\"sk-label-container\"><div class=\"sk-label sk-toggleable\"><input class=\"sk-toggleable__control sk-hidden--visually\" id=\"3642dbc9-5088-4987-87bc-900df748432b\" type=\"checkbox\" ><label class=\"sk-toggleable__label\" for=\"3642dbc9-5088-4987-87bc-900df748432b\">Pipeline</label><div class=\"sk-toggleable__content\"><pre>Pipeline(steps=[('data_preprocessing',\n",
       "                 ColumnTransformer(transformers=[('numeric',\n",
       "                                                  Pipeline(steps=[('num_scaler',\n",
       "                                                                   MinMaxScaler())]),\n",
       "                                                  ['subject_age']),\n",
       "                                                 ('categoric',\n",
       "                                                  Pipeline(steps=[('cat_encoder',\n",
       "                                                                   OneHotEncoder(handle_unknown='ignore'))]),\n",
       "                                                  ['subject_sex', 'type',\n",
       "                                                   'arrest_made',\n",
       "                                                   'citation_issued',\n",
       "                                                   'warning_issued', 'outcome',\n",
       "                                                   'contraband_found',\n",
       "                                                   'contraband_drugs'...\n",
       "                                                   'search_conducted',\n",
       "                                                   'search_basis',\n",
       "                                                   'reason_for_stop',\n",
       "                                                   'vehicle_type',\n",
       "                                                   'vehicle_registration_state',\n",
       "                                                   'raw_Race']),\n",
       "                                                 ('text_pro0',\n",
       "                                                  Pipeline(steps=[('text_vect0',\n",
       "                                                                   CountVectorizer(binary=True,\n",
       "                                                                                   max_features=50))]),\n",
       "                                                  'location'),\n",
       "                                                 ('text_pro1',\n",
       "                                                  Pipeline(steps=[('text_vect1',\n",
       "                                                                   CountVectorizer(binary=True,\n",
       "                                                                                   max_features=50))]),\n",
       "                                                  'county_name')])),\n",
       "                ('dt', DecisionTreeClassifier())])</pre></div></div></div><div class=\"sk-serial\"><div class=\"sk-item sk-dashed-wrapped\"><div class=\"sk-label-container\"><div class=\"sk-label sk-toggleable\"><input class=\"sk-toggleable__control sk-hidden--visually\" id=\"3a065f1b-63f1-45e3-81a0-668835db811b\" type=\"checkbox\" ><label class=\"sk-toggleable__label\" for=\"3a065f1b-63f1-45e3-81a0-668835db811b\">data_preprocessing: ColumnTransformer</label><div class=\"sk-toggleable__content\"><pre>ColumnTransformer(transformers=[('numeric',\n",
       "                                 Pipeline(steps=[('num_scaler',\n",
       "                                                  MinMaxScaler())]),\n",
       "                                 ['subject_age']),\n",
       "                                ('categoric',\n",
       "                                 Pipeline(steps=[('cat_encoder',\n",
       "                                                  OneHotEncoder(handle_unknown='ignore'))]),\n",
       "                                 ['subject_sex', 'type', 'arrest_made',\n",
       "                                  'citation_issued', 'warning_issued',\n",
       "                                  'outcome', 'contraband_found',\n",
       "                                  'contraband_drugs', 'contraband_weapons',\n",
       "                                  'contraband_alco...aband_other',\n",
       "                                  'frisk_performed', 'search_conducted',\n",
       "                                  'search_basis', 'reason_for_stop',\n",
       "                                  'vehicle_type', 'vehicle_registration_state',\n",
       "                                  'raw_Race']),\n",
       "                                ('text_pro0',\n",
       "                                 Pipeline(steps=[('text_vect0',\n",
       "                                                  CountVectorizer(binary=True,\n",
       "                                                                  max_features=50))]),\n",
       "                                 'location'),\n",
       "                                ('text_pro1',\n",
       "                                 Pipeline(steps=[('text_vect1',\n",
       "                                                  CountVectorizer(binary=True,\n",
       "                                                                  max_features=50))]),\n",
       "                                 'county_name')])</pre></div></div></div><div class=\"sk-parallel\"><div class=\"sk-parallel-item\"><div class=\"sk-item\"><div class=\"sk-label-container\"><div class=\"sk-label sk-toggleable\"><input class=\"sk-toggleable__control sk-hidden--visually\" id=\"61e1e99f-ea75-4bf7-9dfd-1986689abca1\" type=\"checkbox\" ><label class=\"sk-toggleable__label\" for=\"61e1e99f-ea75-4bf7-9dfd-1986689abca1\">numeric</label><div class=\"sk-toggleable__content\"><pre>['subject_age']</pre></div></div></div><div class=\"sk-serial\"><div class=\"sk-item\"><div class=\"sk-serial\"><div class=\"sk-item\"><div class=\"sk-estimator sk-toggleable\"><input class=\"sk-toggleable__control sk-hidden--visually\" id=\"fd29f37b-bcd5-4735-9961-b4f9216f1d22\" type=\"checkbox\" ><label class=\"sk-toggleable__label\" for=\"fd29f37b-bcd5-4735-9961-b4f9216f1d22\">MinMaxScaler</label><div class=\"sk-toggleable__content\"><pre>MinMaxScaler()</pre></div></div></div></div></div></div></div></div><div class=\"sk-parallel-item\"><div class=\"sk-item\"><div class=\"sk-label-container\"><div class=\"sk-label sk-toggleable\"><input class=\"sk-toggleable__control sk-hidden--visually\" id=\"771fcbb8-661a-4a02-af25-c22cedb5968c\" type=\"checkbox\" ><label class=\"sk-toggleable__label\" for=\"771fcbb8-661a-4a02-af25-c22cedb5968c\">categoric</label><div class=\"sk-toggleable__content\"><pre>['subject_sex', 'type', 'arrest_made', 'citation_issued', 'warning_issued', 'outcome', 'contraband_found', 'contraband_drugs', 'contraband_weapons', 'contraband_alcohol', 'contraband_other', 'frisk_performed', 'search_conducted', 'search_basis', 'reason_for_stop', 'vehicle_type', 'vehicle_registration_state', 'raw_Race']</pre></div></div></div><div class=\"sk-serial\"><div class=\"sk-item\"><div class=\"sk-serial\"><div class=\"sk-item\"><div class=\"sk-estimator sk-toggleable\"><input class=\"sk-toggleable__control sk-hidden--visually\" id=\"babcaf8f-bc8a-4f61-898a-f0e0d947997c\" type=\"checkbox\" ><label class=\"sk-toggleable__label\" for=\"babcaf8f-bc8a-4f61-898a-f0e0d947997c\">OneHotEncoder</label><div class=\"sk-toggleable__content\"><pre>OneHotEncoder(handle_unknown='ignore')</pre></div></div></div></div></div></div></div></div><div class=\"sk-parallel-item\"><div class=\"sk-item\"><div class=\"sk-label-container\"><div class=\"sk-label sk-toggleable\"><input class=\"sk-toggleable__control sk-hidden--visually\" id=\"b5e34c71-9dbd-4255-a3dd-ce6725dad329\" type=\"checkbox\" ><label class=\"sk-toggleable__label\" for=\"b5e34c71-9dbd-4255-a3dd-ce6725dad329\">text_pro0</label><div class=\"sk-toggleable__content\"><pre>location</pre></div></div></div><div class=\"sk-serial\"><div class=\"sk-item\"><div class=\"sk-serial\"><div class=\"sk-item\"><div class=\"sk-estimator sk-toggleable\"><input class=\"sk-toggleable__control sk-hidden--visually\" id=\"e9b63e66-eed4-470f-8120-b0cbf490000a\" type=\"checkbox\" ><label class=\"sk-toggleable__label\" for=\"e9b63e66-eed4-470f-8120-b0cbf490000a\">CountVectorizer</label><div class=\"sk-toggleable__content\"><pre>CountVectorizer(binary=True, max_features=50)</pre></div></div></div></div></div></div></div></div><div class=\"sk-parallel-item\"><div class=\"sk-item\"><div class=\"sk-label-container\"><div class=\"sk-label sk-toggleable\"><input class=\"sk-toggleable__control sk-hidden--visually\" id=\"0ee25a7b-8623-4fd7-8e58-625c743ad876\" type=\"checkbox\" ><label class=\"sk-toggleable__label\" for=\"0ee25a7b-8623-4fd7-8e58-625c743ad876\">text_pro1</label><div class=\"sk-toggleable__content\"><pre>county_name</pre></div></div></div><div class=\"sk-serial\"><div class=\"sk-item\"><div class=\"sk-serial\"><div class=\"sk-item\"><div class=\"sk-estimator sk-toggleable\"><input class=\"sk-toggleable__control sk-hidden--visually\" id=\"b1367209-2e20-41cd-88fc-3566513c6e0a\" type=\"checkbox\" ><label class=\"sk-toggleable__label\" for=\"b1367209-2e20-41cd-88fc-3566513c6e0a\">CountVectorizer</label><div class=\"sk-toggleable__content\"><pre>CountVectorizer(binary=True, max_features=50)</pre></div></div></div></div></div></div></div></div></div></div><div class=\"sk-item\"><div class=\"sk-estimator sk-toggleable\"><input class=\"sk-toggleable__control sk-hidden--visually\" id=\"41e1290d-c1c2-49d1-96eb-2d64db4c7a73\" type=\"checkbox\" ><label class=\"sk-toggleable__label\" for=\"41e1290d-c1c2-49d1-96eb-2d64db4c7a73\">DecisionTreeClassifier</label><div class=\"sk-toggleable__content\"><pre>DecisionTreeClassifier()</pre></div></div></div></div></div></div></div>"
      ],
      "text/plain": [
       "Pipeline(steps=[('data_preprocessing',\n",
       "                 ColumnTransformer(transformers=[('numeric',\n",
       "                                                  Pipeline(steps=[('num_scaler',\n",
       "                                                                   MinMaxScaler())]),\n",
       "                                                  ['subject_age']),\n",
       "                                                 ('categoric',\n",
       "                                                  Pipeline(steps=[('cat_encoder',\n",
       "                                                                   OneHotEncoder(handle_unknown='ignore'))]),\n",
       "                                                  ['subject_sex', 'type',\n",
       "                                                   'arrest_made',\n",
       "                                                   'citation_issued',\n",
       "                                                   'warning_issued', 'outcome',\n",
       "                                                   'contraband_found',\n",
       "                                                   'contraband_drugs'...\n",
       "                                                   'search_conducted',\n",
       "                                                   'search_basis',\n",
       "                                                   'reason_for_stop',\n",
       "                                                   'vehicle_type',\n",
       "                                                   'vehicle_registration_state',\n",
       "                                                   'raw_Race']),\n",
       "                                                 ('text_pro0',\n",
       "                                                  Pipeline(steps=[('text_vect0',\n",
       "                                                                   CountVectorizer(binary=True,\n",
       "                                                                                   max_features=50))]),\n",
       "                                                  'location'),\n",
       "                                                 ('text_pro1',\n",
       "                                                  Pipeline(steps=[('text_vect1',\n",
       "                                                                   CountVectorizer(binary=True,\n",
       "                                                                                   max_features=50))]),\n",
       "                                                  'county_name')])),\n",
       "                ('dt', DecisionTreeClassifier())])"
      ]
     },
     "execution_count": 24,
     "metadata": {},
     "output_type": "execute_result"
    }
   ],
   "source": [
    "from sklearn.preprocessing import MinMaxScaler, OneHotEncoder\n",
    "from sklearn.feature_extraction.text import CountVectorizer\n",
    "from sklearn.pipeline import Pipeline\n",
    "from sklearn.compose import ColumnTransformer\n",
    "from sklearn.tree import DecisionTreeClassifier\n",
    "\n",
    "numerical_processor = Pipeline([\n",
    "    ('num_scaler', MinMaxScaler())\n",
    "])\n",
    "\n",
    "categorical_processor = Pipeline([\n",
    "    ('cat_encoder', OneHotEncoder(handle_unknown='ignore'))\n",
    "])\n",
    "\n",
    "text_processor0 = Pipeline([\n",
    "    ('text_vect0', CountVectorizer(binary=True, max_features=50))\n",
    "])\n",
    "\n",
    "text_processor1 = Pipeline([\n",
    "    ('text_vect1', CountVectorizer(binary=True, max_features=50))\n",
    "])\n",
    "\n",
    "data_preprocessor = ColumnTransformer([\n",
    "    ('numeric', numerical_processor, numerical_features),\n",
    "    ('categoric', categorical_processor, categorical_features),\n",
    "    ('text_pro0', text_processor0, text_features[0]),\n",
    "    ('text_pro1', text_processor1, text_features[1])\n",
    "])\n",
    "\n",
    "pipeline = Pipeline([\n",
    "    ('data_preprocessing', data_preprocessor),\n",
    "    ('dt', DecisionTreeClassifier())\n",
    "])\n",
    "\n",
    "from sklearn import set_config\n",
    "set_config(display='diagram')\n",
    "pipeline"
   ]
  },
  {
   "cell_type": "markdown",
   "metadata": {},
   "source": [
    "### Training the Model"
   ]
  },
  {
   "cell_type": "code",
   "execution_count": 25,
   "metadata": {},
   "outputs": [
    {
     "data": {
      "text/html": [
       "<style>div.sk-top-container {color: black;background-color: white;}div.sk-toggleable {background-color: white;}label.sk-toggleable__label {cursor: pointer;display: block;width: 100%;margin-bottom: 0;padding: 0.2em 0.3em;box-sizing: border-box;text-align: center;}div.sk-toggleable__content {max-height: 0;max-width: 0;overflow: hidden;text-align: left;background-color: #f0f8ff;}div.sk-toggleable__content pre {margin: 0.2em;color: black;border-radius: 0.25em;background-color: #f0f8ff;}input.sk-toggleable__control:checked~div.sk-toggleable__content {max-height: 200px;max-width: 100%;overflow: auto;}div.sk-estimator input.sk-toggleable__control:checked~label.sk-toggleable__label {background-color: #d4ebff;}div.sk-label input.sk-toggleable__control:checked~label.sk-toggleable__label {background-color: #d4ebff;}input.sk-hidden--visually {border: 0;clip: rect(1px 1px 1px 1px);clip: rect(1px, 1px, 1px, 1px);height: 1px;margin: -1px;overflow: hidden;padding: 0;position: absolute;width: 1px;}div.sk-estimator {font-family: monospace;background-color: #f0f8ff;margin: 0.25em 0.25em;border: 1px dotted black;border-radius: 0.25em;box-sizing: border-box;}div.sk-estimator:hover {background-color: #d4ebff;}div.sk-parallel-item::after {content: \"\";width: 100%;border-bottom: 1px solid gray;flex-grow: 1;}div.sk-label:hover label.sk-toggleable__label {background-color: #d4ebff;}div.sk-serial::before {content: \"\";position: absolute;border-left: 1px solid gray;box-sizing: border-box;top: 2em;bottom: 0;left: 50%;}div.sk-serial {display: flex;flex-direction: column;align-items: center;background-color: white;}div.sk-item {z-index: 1;}div.sk-parallel {display: flex;align-items: stretch;justify-content: center;background-color: white;}div.sk-parallel-item {display: flex;flex-direction: column;position: relative;background-color: white;}div.sk-parallel-item:first-child::after {align-self: flex-end;width: 50%;}div.sk-parallel-item:last-child::after {align-self: flex-start;width: 50%;}div.sk-parallel-item:only-child::after {width: 0;}div.sk-dashed-wrapped {border: 1px dashed gray;margin: 0.2em;box-sizing: border-box;padding-bottom: 0.1em;background-color: white;position: relative;}div.sk-label label {font-family: monospace;font-weight: bold;background-color: white;display: inline-block;line-height: 1.2em;}div.sk-label-container {position: relative;z-index: 2;text-align: center;}div.sk-container {display: inline-block;position: relative;}</style><div class=\"sk-top-container\"><div class=\"sk-container\"><div class=\"sk-item sk-dashed-wrapped\"><div class=\"sk-label-container\"><div class=\"sk-label sk-toggleable\"><input class=\"sk-toggleable__control sk-hidden--visually\" id=\"0d941df6-75f0-45fa-8170-ba726dc4ddde\" type=\"checkbox\" ><label class=\"sk-toggleable__label\" for=\"0d941df6-75f0-45fa-8170-ba726dc4ddde\">Pipeline</label><div class=\"sk-toggleable__content\"><pre>Pipeline(steps=[('data_preprocessing',\n",
       "                 ColumnTransformer(transformers=[('numeric',\n",
       "                                                  Pipeline(steps=[('num_scaler',\n",
       "                                                                   MinMaxScaler())]),\n",
       "                                                  ['subject_age']),\n",
       "                                                 ('categoric',\n",
       "                                                  Pipeline(steps=[('cat_encoder',\n",
       "                                                                   OneHotEncoder(handle_unknown='ignore'))]),\n",
       "                                                  ['subject_sex', 'type',\n",
       "                                                   'arrest_made',\n",
       "                                                   'citation_issued',\n",
       "                                                   'warning_issued', 'outcome',\n",
       "                                                   'contraband_found',\n",
       "                                                   'contraband_drugs'...\n",
       "                                                   'search_conducted',\n",
       "                                                   'search_basis',\n",
       "                                                   'reason_for_stop',\n",
       "                                                   'vehicle_type',\n",
       "                                                   'vehicle_registration_state',\n",
       "                                                   'raw_Race']),\n",
       "                                                 ('text_pro0',\n",
       "                                                  Pipeline(steps=[('text_vect0',\n",
       "                                                                   CountVectorizer(binary=True,\n",
       "                                                                                   max_features=50))]),\n",
       "                                                  'location'),\n",
       "                                                 ('text_pro1',\n",
       "                                                  Pipeline(steps=[('text_vect1',\n",
       "                                                                   CountVectorizer(binary=True,\n",
       "                                                                                   max_features=50))]),\n",
       "                                                  'county_name')])),\n",
       "                ('dt', DecisionTreeClassifier())])</pre></div></div></div><div class=\"sk-serial\"><div class=\"sk-item sk-dashed-wrapped\"><div class=\"sk-label-container\"><div class=\"sk-label sk-toggleable\"><input class=\"sk-toggleable__control sk-hidden--visually\" id=\"bf4853ff-9a2f-4bee-8a27-c0969f9c4173\" type=\"checkbox\" ><label class=\"sk-toggleable__label\" for=\"bf4853ff-9a2f-4bee-8a27-c0969f9c4173\">data_preprocessing: ColumnTransformer</label><div class=\"sk-toggleable__content\"><pre>ColumnTransformer(transformers=[('numeric',\n",
       "                                 Pipeline(steps=[('num_scaler',\n",
       "                                                  MinMaxScaler())]),\n",
       "                                 ['subject_age']),\n",
       "                                ('categoric',\n",
       "                                 Pipeline(steps=[('cat_encoder',\n",
       "                                                  OneHotEncoder(handle_unknown='ignore'))]),\n",
       "                                 ['subject_sex', 'type', 'arrest_made',\n",
       "                                  'citation_issued', 'warning_issued',\n",
       "                                  'outcome', 'contraband_found',\n",
       "                                  'contraband_drugs', 'contraband_weapons',\n",
       "                                  'contraband_alco...aband_other',\n",
       "                                  'frisk_performed', 'search_conducted',\n",
       "                                  'search_basis', 'reason_for_stop',\n",
       "                                  'vehicle_type', 'vehicle_registration_state',\n",
       "                                  'raw_Race']),\n",
       "                                ('text_pro0',\n",
       "                                 Pipeline(steps=[('text_vect0',\n",
       "                                                  CountVectorizer(binary=True,\n",
       "                                                                  max_features=50))]),\n",
       "                                 'location'),\n",
       "                                ('text_pro1',\n",
       "                                 Pipeline(steps=[('text_vect1',\n",
       "                                                  CountVectorizer(binary=True,\n",
       "                                                                  max_features=50))]),\n",
       "                                 'county_name')])</pre></div></div></div><div class=\"sk-parallel\"><div class=\"sk-parallel-item\"><div class=\"sk-item\"><div class=\"sk-label-container\"><div class=\"sk-label sk-toggleable\"><input class=\"sk-toggleable__control sk-hidden--visually\" id=\"16434895-7435-443d-808f-e1316c8d5742\" type=\"checkbox\" ><label class=\"sk-toggleable__label\" for=\"16434895-7435-443d-808f-e1316c8d5742\">numeric</label><div class=\"sk-toggleable__content\"><pre>['subject_age']</pre></div></div></div><div class=\"sk-serial\"><div class=\"sk-item\"><div class=\"sk-serial\"><div class=\"sk-item\"><div class=\"sk-estimator sk-toggleable\"><input class=\"sk-toggleable__control sk-hidden--visually\" id=\"913529cb-17cc-4357-8afd-75c9c9250aac\" type=\"checkbox\" ><label class=\"sk-toggleable__label\" for=\"913529cb-17cc-4357-8afd-75c9c9250aac\">MinMaxScaler</label><div class=\"sk-toggleable__content\"><pre>MinMaxScaler()</pre></div></div></div></div></div></div></div></div><div class=\"sk-parallel-item\"><div class=\"sk-item\"><div class=\"sk-label-container\"><div class=\"sk-label sk-toggleable\"><input class=\"sk-toggleable__control sk-hidden--visually\" id=\"130cc774-83aa-4242-803a-4e96b9ada925\" type=\"checkbox\" ><label class=\"sk-toggleable__label\" for=\"130cc774-83aa-4242-803a-4e96b9ada925\">categoric</label><div class=\"sk-toggleable__content\"><pre>['subject_sex', 'type', 'arrest_made', 'citation_issued', 'warning_issued', 'outcome', 'contraband_found', 'contraband_drugs', 'contraband_weapons', 'contraband_alcohol', 'contraband_other', 'frisk_performed', 'search_conducted', 'search_basis', 'reason_for_stop', 'vehicle_type', 'vehicle_registration_state', 'raw_Race']</pre></div></div></div><div class=\"sk-serial\"><div class=\"sk-item\"><div class=\"sk-serial\"><div class=\"sk-item\"><div class=\"sk-estimator sk-toggleable\"><input class=\"sk-toggleable__control sk-hidden--visually\" id=\"64293857-8ffd-49ce-ae53-44cdb5ef1578\" type=\"checkbox\" ><label class=\"sk-toggleable__label\" for=\"64293857-8ffd-49ce-ae53-44cdb5ef1578\">OneHotEncoder</label><div class=\"sk-toggleable__content\"><pre>OneHotEncoder(handle_unknown='ignore')</pre></div></div></div></div></div></div></div></div><div class=\"sk-parallel-item\"><div class=\"sk-item\"><div class=\"sk-label-container\"><div class=\"sk-label sk-toggleable\"><input class=\"sk-toggleable__control sk-hidden--visually\" id=\"974784d4-a29b-4361-bf5d-4434f970ffc0\" type=\"checkbox\" ><label class=\"sk-toggleable__label\" for=\"974784d4-a29b-4361-bf5d-4434f970ffc0\">text_pro0</label><div class=\"sk-toggleable__content\"><pre>location</pre></div></div></div><div class=\"sk-serial\"><div class=\"sk-item\"><div class=\"sk-serial\"><div class=\"sk-item\"><div class=\"sk-estimator sk-toggleable\"><input class=\"sk-toggleable__control sk-hidden--visually\" id=\"54293858-c300-4613-8ccd-36de23cfd2e1\" type=\"checkbox\" ><label class=\"sk-toggleable__label\" for=\"54293858-c300-4613-8ccd-36de23cfd2e1\">CountVectorizer</label><div class=\"sk-toggleable__content\"><pre>CountVectorizer(binary=True, max_features=50)</pre></div></div></div></div></div></div></div></div><div class=\"sk-parallel-item\"><div class=\"sk-item\"><div class=\"sk-label-container\"><div class=\"sk-label sk-toggleable\"><input class=\"sk-toggleable__control sk-hidden--visually\" id=\"4d073cc8-3ffc-45ef-927d-e6aa0112f046\" type=\"checkbox\" ><label class=\"sk-toggleable__label\" for=\"4d073cc8-3ffc-45ef-927d-e6aa0112f046\">text_pro1</label><div class=\"sk-toggleable__content\"><pre>county_name</pre></div></div></div><div class=\"sk-serial\"><div class=\"sk-item\"><div class=\"sk-serial\"><div class=\"sk-item\"><div class=\"sk-estimator sk-toggleable\"><input class=\"sk-toggleable__control sk-hidden--visually\" id=\"61250bba-ef44-41b0-8db5-eaf111e103ec\" type=\"checkbox\" ><label class=\"sk-toggleable__label\" for=\"61250bba-ef44-41b0-8db5-eaf111e103ec\">CountVectorizer</label><div class=\"sk-toggleable__content\"><pre>CountVectorizer(binary=True, max_features=50)</pre></div></div></div></div></div></div></div></div></div></div><div class=\"sk-item\"><div class=\"sk-estimator sk-toggleable\"><input class=\"sk-toggleable__control sk-hidden--visually\" id=\"4e796924-0f97-45a1-9398-943f539f89b7\" type=\"checkbox\" ><label class=\"sk-toggleable__label\" for=\"4e796924-0f97-45a1-9398-943f539f89b7\">DecisionTreeClassifier</label><div class=\"sk-toggleable__content\"><pre>DecisionTreeClassifier()</pre></div></div></div></div></div></div></div>"
      ],
      "text/plain": [
       "Pipeline(steps=[('data_preprocessing',\n",
       "                 ColumnTransformer(transformers=[('numeric',\n",
       "                                                  Pipeline(steps=[('num_scaler',\n",
       "                                                                   MinMaxScaler())]),\n",
       "                                                  ['subject_age']),\n",
       "                                                 ('categoric',\n",
       "                                                  Pipeline(steps=[('cat_encoder',\n",
       "                                                                   OneHotEncoder(handle_unknown='ignore'))]),\n",
       "                                                  ['subject_sex', 'type',\n",
       "                                                   'arrest_made',\n",
       "                                                   'citation_issued',\n",
       "                                                   'warning_issued', 'outcome',\n",
       "                                                   'contraband_found',\n",
       "                                                   'contraband_drugs'...\n",
       "                                                   'search_conducted',\n",
       "                                                   'search_basis',\n",
       "                                                   'reason_for_stop',\n",
       "                                                   'vehicle_type',\n",
       "                                                   'vehicle_registration_state',\n",
       "                                                   'raw_Race']),\n",
       "                                                 ('text_pro0',\n",
       "                                                  Pipeline(steps=[('text_vect0',\n",
       "                                                                   CountVectorizer(binary=True,\n",
       "                                                                                   max_features=50))]),\n",
       "                                                  'location'),\n",
       "                                                 ('text_pro1',\n",
       "                                                  Pipeline(steps=[('text_vect1',\n",
       "                                                                   CountVectorizer(binary=True,\n",
       "                                                                                   max_features=50))]),\n",
       "                                                  'county_name')])),\n",
       "                ('dt', DecisionTreeClassifier())])"
      ]
     },
     "execution_count": 25,
     "metadata": {},
     "output_type": "execute_result"
    }
   ],
   "source": [
    "X_train = train_data[model_features]\n",
    "y_train = train_data[model_target]\n",
    "\n",
    "pipeline.fit(X_train, y_train)"
   ]
  },
  {
   "cell_type": "code",
   "execution_count": 28,
   "metadata": {},
   "outputs": [
    {
     "name": "stdout",
     "output_type": "stream",
     "text": [
      "[[ 45231      2      0      0    138]\n",
      " [     5  95279      0      0    265]\n",
      " [     6      9  91700      0    271]\n",
      " [     0      0      0   2995      7]\n",
      " [    20     59     41      2 686354]]\n",
      "                        precision    recall  f1-score   support\n",
      "\n",
      "asian/pacific islander       1.00      1.00      1.00     45371\n",
      "                 black       1.00      1.00      1.00     95549\n",
      "              hispanic       1.00      1.00      1.00     91986\n",
      "                 other       1.00      1.00      1.00      3002\n",
      "                 white       1.00      1.00      1.00    686476\n",
      "\n",
      "              accuracy                           1.00    922384\n",
      "             macro avg       1.00      1.00      1.00    922384\n",
      "          weighted avg       1.00      1.00      1.00    922384\n",
      "\n",
      "Accuracy Score: 0.9991055785876598\n"
     ]
    }
   ],
   "source": [
    "from sklearn.metrics import confusion_matrix, classification_report, accuracy_score\n",
    "\n",
    "train_predictions = pipeline.predict(X_train)\n",
    "\n",
    "print(confusion_matrix(y_train, train_predictions))\n",
    "print(classification_report(y_train, train_predictions))\n",
    "print('Accuracy Score:', accuracy_score(y_train, train_predictions))"
   ]
  },
  {
   "cell_type": "code",
   "execution_count": 29,
   "metadata": {},
   "outputs": [
    {
     "name": "stdout",
     "output_type": "stream",
     "text": [
      "[[ 104960      39      27       1     485]\n",
      " [     34  221623      77       1    1033]\n",
      " [     38      88  213383       2    1045]\n",
      " [      2       1       1    6819      41]\n",
      " [    254     532     521      15 1601208]]\n",
      "                        precision    recall  f1-score   support\n",
      "\n",
      "asian/pacific islander       1.00      0.99      1.00    105512\n",
      "                 black       1.00      0.99      1.00    222768\n",
      "              hispanic       1.00      0.99      1.00    214556\n",
      "                 other       1.00      0.99      1.00      6864\n",
      "                 white       1.00      1.00      1.00   1602530\n",
      "\n",
      "              accuracy                           1.00   2152230\n",
      "             macro avg       1.00      1.00      1.00   2152230\n",
      "          weighted avg       1.00      1.00      1.00   2152230\n",
      "\n",
      "Accuracy Score: 0.9980313442336554\n"
     ]
    }
   ],
   "source": [
    "X_val = val_data[model_features]\n",
    "y_val = val_data[model_target]\n",
    "\n",
    "val_predictions = pipeline.predict(X_val)\n",
    "\n",
    "print(confusion_matrix(y_val, val_predictions))\n",
    "print(classification_report(y_val, val_predictions))\n",
    "print('Accuracy Score:', accuracy_score(y_val, val_predictions))"
   ]
  },
  {
   "cell_type": "code",
   "execution_count": 36,
   "metadata": {},
   "outputs": [
    {
     "name": "stdout",
     "output_type": "stream",
     "text": [
      "Fitting 5 folds for each of 27 candidates, totalling 135 fits\n"
     ]
    },
    {
     "name": "stderr",
     "output_type": "stream",
     "text": [
      "[Parallel(n_jobs=-1)]: Using backend LokyBackend with 4 concurrent workers.\n"
     ]
    },
    {
     "ename": "ValueError",
     "evalue": "Invalid parameter dt_max_depth for estimator Pipeline(steps=[('data_preprocessing',\n                 ColumnTransformer(transformers=[('numeric',\n                                                  Pipeline(steps=[('num_scaler',\n                                                                   MinMaxScaler())]),\n                                                  ['subject_age']),\n                                                 ('categoric',\n                                                  Pipeline(steps=[('cat_encoder',\n                                                                   OneHotEncoder(handle_unknown='ignore'))]),\n                                                  ['subject_sex', 'type',\n                                                   'arrest_made',\n                                                   'citation_issued',\n                                                   'warning_issued', 'outcome',\n                                                   'contraband_found',\n                                                   'contraband_drugs'...\n                                                   'search_conducted',\n                                                   'search_basis',\n                                                   'reason_for_stop',\n                                                   'vehicle_type',\n                                                   'vehicle_registration_state',\n                                                   'raw_Race']),\n                                                 ('text_pro0',\n                                                  Pipeline(steps=[('text_vect0',\n                                                                   CountVectorizer(binary=True,\n                                                                                   max_features=50))]),\n                                                  'location'),\n                                                 ('text_pro1',\n                                                  Pipeline(steps=[('text_vect1',\n                                                                   CountVectorizer(binary=True,\n                                                                                   max_features=50))]),\n                                                  'county_name')])),\n                ('dt', DecisionTreeClassifier())]). Check the list of available parameters with `estimator.get_params().keys()`.",
     "output_type": "error",
     "traceback": [
      "\u001b[1;31m---------------------------------------------------------------------------\u001b[0m",
      "\u001b[1;31m_RemoteTraceback\u001b[0m                          Traceback (most recent call last)",
      "\u001b[1;31m_RemoteTraceback\u001b[0m: \n\"\"\"\nTraceback (most recent call last):\n  File \"C:\\Users\\SwetaMankala\\Anaconda3\\lib\\site-packages\\joblib\\externals\\loky\\process_executor.py\", line 418, in _process_worker\n    r = call_item()\n  File \"C:\\Users\\SwetaMankala\\Anaconda3\\lib\\site-packages\\joblib\\externals\\loky\\process_executor.py\", line 272, in __call__\n    return self.fn(*self.args, **self.kwargs)\n  File \"C:\\Users\\SwetaMankala\\Anaconda3\\lib\\site-packages\\joblib\\_parallel_backends.py\", line 567, in __call__\n    return self.func(*args, **kwargs)\n  File \"C:\\Users\\SwetaMankala\\Anaconda3\\lib\\site-packages\\joblib\\parallel.py\", line 225, in __call__\n    for func, args, kwargs in self.items]\n  File \"C:\\Users\\SwetaMankala\\Anaconda3\\lib\\site-packages\\joblib\\parallel.py\", line 225, in <listcomp>\n    for func, args, kwargs in self.items]\n  File \"C:\\Users\\SwetaMankala\\Anaconda3\\lib\\site-packages\\sklearn\\model_selection\\_validation.py\", line 520, in _fit_and_score\n    estimator = estimator.set_params(**cloned_parameters)\n  File \"C:\\Users\\SwetaMankala\\Anaconda3\\lib\\site-packages\\sklearn\\pipeline.py\", line 141, in set_params\n    self._set_params('steps', **kwargs)\n  File \"C:\\Users\\SwetaMankala\\Anaconda3\\lib\\site-packages\\sklearn\\utils\\metaestimators.py\", line 53, in _set_params\n    super().set_params(**params)\n  File \"C:\\Users\\SwetaMankala\\Anaconda3\\lib\\site-packages\\sklearn\\base.py\", line 252, in set_params\n    (key, self))\nValueError: Invalid parameter dt_max_depth for estimator Pipeline(steps=[('data_preprocessing',\n                 ColumnTransformer(transformers=[('numeric',\n                                                  Pipeline(steps=[('num_scaler',\n                                                                   MinMaxScaler())]),\n                                                  ['subject_age']),\n                                                 ('categoric',\n                                                  Pipeline(steps=[('cat_encoder',\n                                                                   OneHotEncoder(handle_unknown='ignore'))]),\n                                                  ['subject_sex', 'type',\n                                                   'arrest_made',\n                                                   'citation_issued',\n                                                   'warning_issued', 'outcome',\n                                                   'contraband_found',\n                                                   'contraband_drugs'...\n                                                   'search_conducted',\n                                                   'search_basis',\n                                                   'reason_for_stop',\n                                                   'vehicle_type',\n                                                   'vehicle_registration_state',\n                                                   'raw_Race']),\n                                                 ('text_pro0',\n                                                  Pipeline(steps=[('text_vect0',\n                                                                   CountVectorizer(binary=True,\n                                                                                   max_features=50))]),\n                                                  'location'),\n                                                 ('text_pro1',\n                                                  Pipeline(steps=[('text_vect1',\n                                                                   CountVectorizer(binary=True,\n                                                                                   max_features=50))]),\n                                                  'county_name')])),\n                ('dt', DecisionTreeClassifier())]). Check the list of available parameters with `estimator.get_params().keys()`.\n\"\"\"",
      "\nThe above exception was the direct cause of the following exception:\n",
      "\u001b[1;31mValueError\u001b[0m                                Traceback (most recent call last)",
      "\u001b[1;32m<ipython-input-36-94c3d9191769>\u001b[0m in \u001b[0;36m<module>\u001b[1;34m\u001b[0m\n\u001b[0;32m     12\u001b[0m                            n_jobs = -1)\n\u001b[0;32m     13\u001b[0m \u001b[1;33m\u001b[0m\u001b[0m\n\u001b[1;32m---> 14\u001b[1;33m \u001b[0mgrid_search\u001b[0m\u001b[1;33m.\u001b[0m\u001b[0mfit\u001b[0m\u001b[1;33m(\u001b[0m\u001b[0mX_train\u001b[0m\u001b[1;33m,\u001b[0m \u001b[0my_train\u001b[0m\u001b[1;33m)\u001b[0m\u001b[1;33m\u001b[0m\u001b[1;33m\u001b[0m\u001b[0m\n\u001b[0m",
      "\u001b[1;32m~\\Anaconda3\\lib\\site-packages\\sklearn\\utils\\validation.py\u001b[0m in \u001b[0;36minner_f\u001b[1;34m(*args, **kwargs)\u001b[0m\n\u001b[0;32m     70\u001b[0m                           FutureWarning)\n\u001b[0;32m     71\u001b[0m         \u001b[0mkwargs\u001b[0m\u001b[1;33m.\u001b[0m\u001b[0mupdate\u001b[0m\u001b[1;33m(\u001b[0m\u001b[1;33m{\u001b[0m\u001b[0mk\u001b[0m\u001b[1;33m:\u001b[0m \u001b[0marg\u001b[0m \u001b[1;32mfor\u001b[0m \u001b[0mk\u001b[0m\u001b[1;33m,\u001b[0m \u001b[0marg\u001b[0m \u001b[1;32min\u001b[0m \u001b[0mzip\u001b[0m\u001b[1;33m(\u001b[0m\u001b[0msig\u001b[0m\u001b[1;33m.\u001b[0m\u001b[0mparameters\u001b[0m\u001b[1;33m,\u001b[0m \u001b[0margs\u001b[0m\u001b[1;33m)\u001b[0m\u001b[1;33m}\u001b[0m\u001b[1;33m)\u001b[0m\u001b[1;33m\u001b[0m\u001b[1;33m\u001b[0m\u001b[0m\n\u001b[1;32m---> 72\u001b[1;33m         \u001b[1;32mreturn\u001b[0m \u001b[0mf\u001b[0m\u001b[1;33m(\u001b[0m\u001b[1;33m**\u001b[0m\u001b[0mkwargs\u001b[0m\u001b[1;33m)\u001b[0m\u001b[1;33m\u001b[0m\u001b[1;33m\u001b[0m\u001b[0m\n\u001b[0m\u001b[0;32m     73\u001b[0m     \u001b[1;32mreturn\u001b[0m \u001b[0minner_f\u001b[0m\u001b[1;33m\u001b[0m\u001b[1;33m\u001b[0m\u001b[0m\n\u001b[0;32m     74\u001b[0m \u001b[1;33m\u001b[0m\u001b[0m\n",
      "\u001b[1;32m~\\Anaconda3\\lib\\site-packages\\sklearn\\model_selection\\_search.py\u001b[0m in \u001b[0;36mfit\u001b[1;34m(self, X, y, groups, **fit_params)\u001b[0m\n\u001b[0;32m    734\u001b[0m                 \u001b[1;32mreturn\u001b[0m \u001b[0mresults\u001b[0m\u001b[1;33m\u001b[0m\u001b[1;33m\u001b[0m\u001b[0m\n\u001b[0;32m    735\u001b[0m \u001b[1;33m\u001b[0m\u001b[0m\n\u001b[1;32m--> 736\u001b[1;33m             \u001b[0mself\u001b[0m\u001b[1;33m.\u001b[0m\u001b[0m_run_search\u001b[0m\u001b[1;33m(\u001b[0m\u001b[0mevaluate_candidates\u001b[0m\u001b[1;33m)\u001b[0m\u001b[1;33m\u001b[0m\u001b[1;33m\u001b[0m\u001b[0m\n\u001b[0m\u001b[0;32m    737\u001b[0m \u001b[1;33m\u001b[0m\u001b[0m\n\u001b[0;32m    738\u001b[0m         \u001b[1;31m# For multi-metric evaluation, store the best_index_, best_params_ and\u001b[0m\u001b[1;33m\u001b[0m\u001b[1;33m\u001b[0m\u001b[1;33m\u001b[0m\u001b[0m\n",
      "\u001b[1;32m~\\Anaconda3\\lib\\site-packages\\sklearn\\model_selection\\_search.py\u001b[0m in \u001b[0;36m_run_search\u001b[1;34m(self, evaluate_candidates)\u001b[0m\n\u001b[0;32m   1186\u001b[0m     \u001b[1;32mdef\u001b[0m \u001b[0m_run_search\u001b[0m\u001b[1;33m(\u001b[0m\u001b[0mself\u001b[0m\u001b[1;33m,\u001b[0m \u001b[0mevaluate_candidates\u001b[0m\u001b[1;33m)\u001b[0m\u001b[1;33m:\u001b[0m\u001b[1;33m\u001b[0m\u001b[1;33m\u001b[0m\u001b[0m\n\u001b[0;32m   1187\u001b[0m         \u001b[1;34m\"\"\"Search all candidates in param_grid\"\"\"\u001b[0m\u001b[1;33m\u001b[0m\u001b[1;33m\u001b[0m\u001b[0m\n\u001b[1;32m-> 1188\u001b[1;33m         \u001b[0mevaluate_candidates\u001b[0m\u001b[1;33m(\u001b[0m\u001b[0mParameterGrid\u001b[0m\u001b[1;33m(\u001b[0m\u001b[0mself\u001b[0m\u001b[1;33m.\u001b[0m\u001b[0mparam_grid\u001b[0m\u001b[1;33m)\u001b[0m\u001b[1;33m)\u001b[0m\u001b[1;33m\u001b[0m\u001b[1;33m\u001b[0m\u001b[0m\n\u001b[0m\u001b[0;32m   1189\u001b[0m \u001b[1;33m\u001b[0m\u001b[0m\n\u001b[0;32m   1190\u001b[0m \u001b[1;33m\u001b[0m\u001b[0m\n",
      "\u001b[1;32m~\\Anaconda3\\lib\\site-packages\\sklearn\\model_selection\\_search.py\u001b[0m in \u001b[0;36mevaluate_candidates\u001b[1;34m(candidate_params)\u001b[0m\n\u001b[0;32m    713\u001b[0m                                \u001b[1;32mfor\u001b[0m \u001b[0mparameters\u001b[0m\u001b[1;33m,\u001b[0m \u001b[1;33m(\u001b[0m\u001b[0mtrain\u001b[0m\u001b[1;33m,\u001b[0m \u001b[0mtest\u001b[0m\u001b[1;33m)\u001b[0m\u001b[1;33m\u001b[0m\u001b[1;33m\u001b[0m\u001b[0m\n\u001b[0;32m    714\u001b[0m                                in product(candidate_params,\n\u001b[1;32m--> 715\u001b[1;33m                                           cv.split(X, y, groups)))\n\u001b[0m\u001b[0;32m    716\u001b[0m \u001b[1;33m\u001b[0m\u001b[0m\n\u001b[0;32m    717\u001b[0m                 \u001b[1;32mif\u001b[0m \u001b[0mlen\u001b[0m\u001b[1;33m(\u001b[0m\u001b[0mout\u001b[0m\u001b[1;33m)\u001b[0m \u001b[1;33m<\u001b[0m \u001b[1;36m1\u001b[0m\u001b[1;33m:\u001b[0m\u001b[1;33m\u001b[0m\u001b[1;33m\u001b[0m\u001b[0m\n",
      "\u001b[1;32m~\\Anaconda3\\lib\\site-packages\\joblib\\parallel.py\u001b[0m in \u001b[0;36m__call__\u001b[1;34m(self, iterable)\u001b[0m\n\u001b[0;32m    932\u001b[0m \u001b[1;33m\u001b[0m\u001b[0m\n\u001b[0;32m    933\u001b[0m             \u001b[1;32mwith\u001b[0m \u001b[0mself\u001b[0m\u001b[1;33m.\u001b[0m\u001b[0m_backend\u001b[0m\u001b[1;33m.\u001b[0m\u001b[0mretrieval_context\u001b[0m\u001b[1;33m(\u001b[0m\u001b[1;33m)\u001b[0m\u001b[1;33m:\u001b[0m\u001b[1;33m\u001b[0m\u001b[1;33m\u001b[0m\u001b[0m\n\u001b[1;32m--> 934\u001b[1;33m                 \u001b[0mself\u001b[0m\u001b[1;33m.\u001b[0m\u001b[0mretrieve\u001b[0m\u001b[1;33m(\u001b[0m\u001b[1;33m)\u001b[0m\u001b[1;33m\u001b[0m\u001b[1;33m\u001b[0m\u001b[0m\n\u001b[0m\u001b[0;32m    935\u001b[0m             \u001b[1;31m# Make sure that we get a last message telling us we are done\u001b[0m\u001b[1;33m\u001b[0m\u001b[1;33m\u001b[0m\u001b[1;33m\u001b[0m\u001b[0m\n\u001b[0;32m    936\u001b[0m             \u001b[0melapsed_time\u001b[0m \u001b[1;33m=\u001b[0m \u001b[0mtime\u001b[0m\u001b[1;33m.\u001b[0m\u001b[0mtime\u001b[0m\u001b[1;33m(\u001b[0m\u001b[1;33m)\u001b[0m \u001b[1;33m-\u001b[0m \u001b[0mself\u001b[0m\u001b[1;33m.\u001b[0m\u001b[0m_start_time\u001b[0m\u001b[1;33m\u001b[0m\u001b[1;33m\u001b[0m\u001b[0m\n",
      "\u001b[1;32m~\\Anaconda3\\lib\\site-packages\\joblib\\parallel.py\u001b[0m in \u001b[0;36mretrieve\u001b[1;34m(self)\u001b[0m\n\u001b[0;32m    831\u001b[0m             \u001b[1;32mtry\u001b[0m\u001b[1;33m:\u001b[0m\u001b[1;33m\u001b[0m\u001b[1;33m\u001b[0m\u001b[0m\n\u001b[0;32m    832\u001b[0m                 \u001b[1;32mif\u001b[0m \u001b[0mgetattr\u001b[0m\u001b[1;33m(\u001b[0m\u001b[0mself\u001b[0m\u001b[1;33m.\u001b[0m\u001b[0m_backend\u001b[0m\u001b[1;33m,\u001b[0m \u001b[1;34m'supports_timeout'\u001b[0m\u001b[1;33m,\u001b[0m \u001b[1;32mFalse\u001b[0m\u001b[1;33m)\u001b[0m\u001b[1;33m:\u001b[0m\u001b[1;33m\u001b[0m\u001b[1;33m\u001b[0m\u001b[0m\n\u001b[1;32m--> 833\u001b[1;33m                     \u001b[0mself\u001b[0m\u001b[1;33m.\u001b[0m\u001b[0m_output\u001b[0m\u001b[1;33m.\u001b[0m\u001b[0mextend\u001b[0m\u001b[1;33m(\u001b[0m\u001b[0mjob\u001b[0m\u001b[1;33m.\u001b[0m\u001b[0mget\u001b[0m\u001b[1;33m(\u001b[0m\u001b[0mtimeout\u001b[0m\u001b[1;33m=\u001b[0m\u001b[0mself\u001b[0m\u001b[1;33m.\u001b[0m\u001b[0mtimeout\u001b[0m\u001b[1;33m)\u001b[0m\u001b[1;33m)\u001b[0m\u001b[1;33m\u001b[0m\u001b[1;33m\u001b[0m\u001b[0m\n\u001b[0m\u001b[0;32m    834\u001b[0m                 \u001b[1;32melse\u001b[0m\u001b[1;33m:\u001b[0m\u001b[1;33m\u001b[0m\u001b[1;33m\u001b[0m\u001b[0m\n\u001b[0;32m    835\u001b[0m                     \u001b[0mself\u001b[0m\u001b[1;33m.\u001b[0m\u001b[0m_output\u001b[0m\u001b[1;33m.\u001b[0m\u001b[0mextend\u001b[0m\u001b[1;33m(\u001b[0m\u001b[0mjob\u001b[0m\u001b[1;33m.\u001b[0m\u001b[0mget\u001b[0m\u001b[1;33m(\u001b[0m\u001b[1;33m)\u001b[0m\u001b[1;33m)\u001b[0m\u001b[1;33m\u001b[0m\u001b[1;33m\u001b[0m\u001b[0m\n",
      "\u001b[1;32m~\\Anaconda3\\lib\\site-packages\\joblib\\_parallel_backends.py\u001b[0m in \u001b[0;36mwrap_future_result\u001b[1;34m(future, timeout)\u001b[0m\n\u001b[0;32m    519\u001b[0m         AsyncResults.get from multiprocessing.\"\"\"\n\u001b[0;32m    520\u001b[0m         \u001b[1;32mtry\u001b[0m\u001b[1;33m:\u001b[0m\u001b[1;33m\u001b[0m\u001b[1;33m\u001b[0m\u001b[0m\n\u001b[1;32m--> 521\u001b[1;33m             \u001b[1;32mreturn\u001b[0m \u001b[0mfuture\u001b[0m\u001b[1;33m.\u001b[0m\u001b[0mresult\u001b[0m\u001b[1;33m(\u001b[0m\u001b[0mtimeout\u001b[0m\u001b[1;33m=\u001b[0m\u001b[0mtimeout\u001b[0m\u001b[1;33m)\u001b[0m\u001b[1;33m\u001b[0m\u001b[1;33m\u001b[0m\u001b[0m\n\u001b[0m\u001b[0;32m    522\u001b[0m         \u001b[1;32mexcept\u001b[0m \u001b[0mLokyTimeoutError\u001b[0m\u001b[1;33m:\u001b[0m\u001b[1;33m\u001b[0m\u001b[1;33m\u001b[0m\u001b[0m\n\u001b[0;32m    523\u001b[0m             \u001b[1;32mraise\u001b[0m \u001b[0mTimeoutError\u001b[0m\u001b[1;33m(\u001b[0m\u001b[1;33m)\u001b[0m\u001b[1;33m\u001b[0m\u001b[1;33m\u001b[0m\u001b[0m\n",
      "\u001b[1;32m~\\Anaconda3\\lib\\concurrent\\futures\\_base.py\u001b[0m in \u001b[0;36mresult\u001b[1;34m(self, timeout)\u001b[0m\n\u001b[0;32m    433\u001b[0m                 \u001b[1;32mraise\u001b[0m \u001b[0mCancelledError\u001b[0m\u001b[1;33m(\u001b[0m\u001b[1;33m)\u001b[0m\u001b[1;33m\u001b[0m\u001b[1;33m\u001b[0m\u001b[0m\n\u001b[0;32m    434\u001b[0m             \u001b[1;32melif\u001b[0m \u001b[0mself\u001b[0m\u001b[1;33m.\u001b[0m\u001b[0m_state\u001b[0m \u001b[1;33m==\u001b[0m \u001b[0mFINISHED\u001b[0m\u001b[1;33m:\u001b[0m\u001b[1;33m\u001b[0m\u001b[1;33m\u001b[0m\u001b[0m\n\u001b[1;32m--> 435\u001b[1;33m                 \u001b[1;32mreturn\u001b[0m \u001b[0mself\u001b[0m\u001b[1;33m.\u001b[0m\u001b[0m__get_result\u001b[0m\u001b[1;33m(\u001b[0m\u001b[1;33m)\u001b[0m\u001b[1;33m\u001b[0m\u001b[1;33m\u001b[0m\u001b[0m\n\u001b[0m\u001b[0;32m    436\u001b[0m             \u001b[1;32melse\u001b[0m\u001b[1;33m:\u001b[0m\u001b[1;33m\u001b[0m\u001b[1;33m\u001b[0m\u001b[0m\n\u001b[0;32m    437\u001b[0m                 \u001b[1;32mraise\u001b[0m \u001b[0mTimeoutError\u001b[0m\u001b[1;33m(\u001b[0m\u001b[1;33m)\u001b[0m\u001b[1;33m\u001b[0m\u001b[1;33m\u001b[0m\u001b[0m\n",
      "\u001b[1;32m~\\Anaconda3\\lib\\concurrent\\futures\\_base.py\u001b[0m in \u001b[0;36m__get_result\u001b[1;34m(self)\u001b[0m\n\u001b[0;32m    382\u001b[0m     \u001b[1;32mdef\u001b[0m \u001b[0m__get_result\u001b[0m\u001b[1;33m(\u001b[0m\u001b[0mself\u001b[0m\u001b[1;33m)\u001b[0m\u001b[1;33m:\u001b[0m\u001b[1;33m\u001b[0m\u001b[1;33m\u001b[0m\u001b[0m\n\u001b[0;32m    383\u001b[0m         \u001b[1;32mif\u001b[0m \u001b[0mself\u001b[0m\u001b[1;33m.\u001b[0m\u001b[0m_exception\u001b[0m\u001b[1;33m:\u001b[0m\u001b[1;33m\u001b[0m\u001b[1;33m\u001b[0m\u001b[0m\n\u001b[1;32m--> 384\u001b[1;33m             \u001b[1;32mraise\u001b[0m \u001b[0mself\u001b[0m\u001b[1;33m.\u001b[0m\u001b[0m_exception\u001b[0m\u001b[1;33m\u001b[0m\u001b[1;33m\u001b[0m\u001b[0m\n\u001b[0m\u001b[0;32m    385\u001b[0m         \u001b[1;32melse\u001b[0m\u001b[1;33m:\u001b[0m\u001b[1;33m\u001b[0m\u001b[1;33m\u001b[0m\u001b[0m\n\u001b[0;32m    386\u001b[0m             \u001b[1;32mreturn\u001b[0m \u001b[0mself\u001b[0m\u001b[1;33m.\u001b[0m\u001b[0m_result\u001b[0m\u001b[1;33m\u001b[0m\u001b[1;33m\u001b[0m\u001b[0m\n",
      "\u001b[1;31mValueError\u001b[0m: Invalid parameter dt_max_depth for estimator Pipeline(steps=[('data_preprocessing',\n                 ColumnTransformer(transformers=[('numeric',\n                                                  Pipeline(steps=[('num_scaler',\n                                                                   MinMaxScaler())]),\n                                                  ['subject_age']),\n                                                 ('categoric',\n                                                  Pipeline(steps=[('cat_encoder',\n                                                                   OneHotEncoder(handle_unknown='ignore'))]),\n                                                  ['subject_sex', 'type',\n                                                   'arrest_made',\n                                                   'citation_issued',\n                                                   'warning_issued', 'outcome',\n                                                   'contraband_found',\n                                                   'contraband_drugs'...\n                                                   'search_conducted',\n                                                   'search_basis',\n                                                   'reason_for_stop',\n                                                   'vehicle_type',\n                                                   'vehicle_registration_state',\n                                                   'raw_Race']),\n                                                 ('text_pro0',\n                                                  Pipeline(steps=[('text_vect0',\n                                                                   CountVectorizer(binary=True,\n                                                                                   max_features=50))]),\n                                                  'location'),\n                                                 ('text_pro1',\n                                                  Pipeline(steps=[('text_vect1',\n                                                                   CountVectorizer(binary=True,\n                                                                                   max_features=50))]),\n                                                  'county_name')])),\n                ('dt', DecisionTreeClassifier())]). Check the list of available parameters with `estimator.get_params().keys()`."
     ]
    }
   ],
   "source": [
    "from sklearn.model_selection import GridSearchCV, RandomizedSearchCV\n",
    "\n",
    "param_grid = {'dt_max_depth': [10, 20, 30],\n",
    "              'dt_min_samples_leaf':[1, 2, 5],\n",
    "              'dt_min_samples_split':[10, 20, 30]\n",
    "             }\n",
    "\n",
    "grid_search = GridSearchCV(pipeline, \n",
    "                           param_grid,\n",
    "                           cv = 5,\n",
    "                           verbose = 1,\n",
    "                           n_jobs = -1)\n",
    "\n",
    "grid_search.fit(X_train, y_train)"
   ]
  },
  {
   "cell_type": "code",
   "execution_count": null,
   "metadata": {},
   "outputs": [],
   "source": [
    "estimator.get_params().keys()"
   ]
  },
  {
   "cell_type": "code",
   "execution_count": null,
   "metadata": {},
   "outputs": [],
   "source": []
  }
 ],
 "metadata": {
  "kernelspec": {
   "display_name": "Python 3",
   "language": "python",
   "name": "python3"
  },
  "language_info": {
   "codemirror_mode": {
    "name": "ipython",
    "version": 3
   },
   "file_extension": ".py",
   "mimetype": "text/x-python",
   "name": "python",
   "nbconvert_exporter": "python",
   "pygments_lexer": "ipython3",
   "version": "3.7.4"
  }
 },
 "nbformat": 4,
 "nbformat_minor": 2
}
